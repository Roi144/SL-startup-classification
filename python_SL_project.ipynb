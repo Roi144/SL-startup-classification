{
 "cells": [
  {
   "cell_type": "markdown",
   "metadata": {},
   "source": [
    "# Python project\n",
    "### Roi Almakias \n",
    "### Alexandra Asinovskaya \n",
    "\n"
   ]
  },
  {
   "cell_type": "markdown",
   "metadata": {},
   "source": [
    "# Startup success prediction\n",
    "\n",
    "Using the startup [dataset](https://www.kaggle.com/manishkc06/startup-success-prediction) from Kaggle.\n",
    "\n",
    "The objective is to predict whether a startup which is currently operating turns into a success or a failure. The success of a company is defined as the event that gives the company's founders a large sum of money through the process of M&A (Merger and Acquisition) or an IPO (Initial Public Offering). A company would be considered as failed if it had to be shut down.\n",
    "\n",
    "**About the Data**\n",
    "\n",
    "The data contains industry trends, investment insights and individual company information. There are **48** columns/features. Some of the features are:\n",
    "\n",
    "* agefirstfunding_year – quantitative\n",
    "* agelastfunding_year – quantitative\n",
    "* relationships – quantitative\n",
    "* funding_rounds – quantitative\n",
    "* fundingtotalusd – quantitative\n",
    "* milestones – quantitative\n",
    "* agefirstmilestone_year – quantitative\n",
    "* agelastmilestone_year – quantitative\n",
    "* state – categorical\n",
    "* industry_type – categorical\n",
    "* has_VC – categorical\n",
    "* has_angel – categorical\n",
    "* has_roundA – categorical\n",
    "* has_roundB – categorical\n",
    "* has_roundC – categorical\n",
    "* has_roundD – categorical\n",
    "* avg_participants – quantitative\n",
    "* is_top500 – categorical\n",
    "* status(acquired/closed) – categorical (the target variable, if a startup is ‘acquired’ by some other organization, means the startup succeed) \n"
   ]
  },
  {
   "cell_type": "code",
   "execution_count": 1,
   "metadata": {},
   "outputs": [],
   "source": [
    "import matplotlib.pyplot as plt\n",
    "import numpy as np\n",
    "import pandas as pd\n",
    "import seaborn as sns\n",
    "from datetime import datetime\n",
    "from sklearn.model_selection import train_test_split as ttsp\n",
    "from sklearn import feature_selection as ftr_slct\n",
    "from sklearn.preprocessing import scale\n",
    "import seaborn as sns; sns.set_theme()\n",
    "from matplotlib.pyplot import figure\n",
    "from statsmodels.stats.outliers_influence import variance_inflation_factor\n",
    "from warnings import simplefilter\n",
    "from sklearn.linear_model import LogisticRegression\n",
    "from sklearn.feature_selection import SelectFromModel\n",
    "from sklearn.metrics import confusion_matrix\n",
    "from sklearn.metrics import accuracy_score\n",
    "from sklearn.discriminant_analysis import LinearDiscriminantAnalysis, QuadraticDiscriminantAnalysis\n",
    "from sklearn.model_selection import cross_val_score\n",
    "from sklearn.neighbors import KNeighborsClassifier\n",
    "from sklearn.svm import SVC\n",
    "from sklearn.tree import DecisionTreeClassifier\n",
    "from sklearn import tree\n",
    "from sklearn.ensemble import RandomForestClassifier\n",
    "from sklearn.datasets import make_classification\n",
    "from sklearn.ensemble import BaggingClassifier\n",
    "from sklearn.ensemble import GradientBoostingClassifier as GBC\n",
    "from sklearn.utils import resample"
   ]
  },
  {
   "cell_type": "code",
   "execution_count": 2,
   "metadata": {},
   "outputs": [
    {
     "data": {
      "text/html": [
       "<div>\n",
       "<style scoped>\n",
       "    .dataframe tbody tr th:only-of-type {\n",
       "        vertical-align: middle;\n",
       "    }\n",
       "\n",
       "    .dataframe tbody tr th {\n",
       "        vertical-align: top;\n",
       "    }\n",
       "\n",
       "    .dataframe thead th {\n",
       "        text-align: right;\n",
       "    }\n",
       "</style>\n",
       "<table border=\"1\" class=\"dataframe\">\n",
       "  <thead>\n",
       "    <tr style=\"text-align: right;\">\n",
       "      <th></th>\n",
       "      <th>Unnamed: 0</th>\n",
       "      <th>state_code</th>\n",
       "      <th>latitude</th>\n",
       "      <th>longitude</th>\n",
       "      <th>zip_code</th>\n",
       "      <th>id</th>\n",
       "      <th>city</th>\n",
       "      <th>Unnamed: 6</th>\n",
       "      <th>name</th>\n",
       "      <th>labels</th>\n",
       "      <th>...</th>\n",
       "      <th>object_id</th>\n",
       "      <th>has_VC</th>\n",
       "      <th>has_angel</th>\n",
       "      <th>has_roundA</th>\n",
       "      <th>has_roundB</th>\n",
       "      <th>has_roundC</th>\n",
       "      <th>has_roundD</th>\n",
       "      <th>avg_participants</th>\n",
       "      <th>is_top500</th>\n",
       "      <th>status</th>\n",
       "    </tr>\n",
       "  </thead>\n",
       "  <tbody>\n",
       "    <tr>\n",
       "      <th>0</th>\n",
       "      <td>1005</td>\n",
       "      <td>CA</td>\n",
       "      <td>42.358880</td>\n",
       "      <td>-71.056820</td>\n",
       "      <td>92101</td>\n",
       "      <td>c:6669</td>\n",
       "      <td>San Diego</td>\n",
       "      <td>NaN</td>\n",
       "      <td>Bandsintown</td>\n",
       "      <td>1</td>\n",
       "      <td>...</td>\n",
       "      <td>c:6669</td>\n",
       "      <td>0</td>\n",
       "      <td>1</td>\n",
       "      <td>0</td>\n",
       "      <td>0</td>\n",
       "      <td>0</td>\n",
       "      <td>0</td>\n",
       "      <td>1.0000</td>\n",
       "      <td>0</td>\n",
       "      <td>acquired</td>\n",
       "    </tr>\n",
       "    <tr>\n",
       "      <th>1</th>\n",
       "      <td>204</td>\n",
       "      <td>CA</td>\n",
       "      <td>37.238916</td>\n",
       "      <td>-121.973718</td>\n",
       "      <td>95032</td>\n",
       "      <td>c:16283</td>\n",
       "      <td>Los Gatos</td>\n",
       "      <td>NaN</td>\n",
       "      <td>TriCipher</td>\n",
       "      <td>1</td>\n",
       "      <td>...</td>\n",
       "      <td>c:16283</td>\n",
       "      <td>1</td>\n",
       "      <td>0</td>\n",
       "      <td>0</td>\n",
       "      <td>1</td>\n",
       "      <td>1</td>\n",
       "      <td>1</td>\n",
       "      <td>4.7500</td>\n",
       "      <td>1</td>\n",
       "      <td>acquired</td>\n",
       "    </tr>\n",
       "    <tr>\n",
       "      <th>2</th>\n",
       "      <td>1001</td>\n",
       "      <td>CA</td>\n",
       "      <td>32.901049</td>\n",
       "      <td>-117.192656</td>\n",
       "      <td>92121</td>\n",
       "      <td>c:65620</td>\n",
       "      <td>San Diego</td>\n",
       "      <td>San Diego CA 92121</td>\n",
       "      <td>Plixi</td>\n",
       "      <td>1</td>\n",
       "      <td>...</td>\n",
       "      <td>c:65620</td>\n",
       "      <td>0</td>\n",
       "      <td>0</td>\n",
       "      <td>1</td>\n",
       "      <td>0</td>\n",
       "      <td>0</td>\n",
       "      <td>0</td>\n",
       "      <td>4.0000</td>\n",
       "      <td>1</td>\n",
       "      <td>acquired</td>\n",
       "    </tr>\n",
       "    <tr>\n",
       "      <th>3</th>\n",
       "      <td>738</td>\n",
       "      <td>CA</td>\n",
       "      <td>37.320309</td>\n",
       "      <td>-122.050040</td>\n",
       "      <td>95014</td>\n",
       "      <td>c:42668</td>\n",
       "      <td>Cupertino</td>\n",
       "      <td>Cupertino CA 95014</td>\n",
       "      <td>Solidcore Systems</td>\n",
       "      <td>1</td>\n",
       "      <td>...</td>\n",
       "      <td>c:42668</td>\n",
       "      <td>0</td>\n",
       "      <td>0</td>\n",
       "      <td>0</td>\n",
       "      <td>1</td>\n",
       "      <td>1</td>\n",
       "      <td>1</td>\n",
       "      <td>3.3333</td>\n",
       "      <td>1</td>\n",
       "      <td>acquired</td>\n",
       "    </tr>\n",
       "    <tr>\n",
       "      <th>4</th>\n",
       "      <td>1002</td>\n",
       "      <td>CA</td>\n",
       "      <td>37.779281</td>\n",
       "      <td>-122.419236</td>\n",
       "      <td>94105</td>\n",
       "      <td>c:65806</td>\n",
       "      <td>San Francisco</td>\n",
       "      <td>San Francisco CA 94105</td>\n",
       "      <td>Inhale Digital</td>\n",
       "      <td>0</td>\n",
       "      <td>...</td>\n",
       "      <td>c:65806</td>\n",
       "      <td>1</td>\n",
       "      <td>1</td>\n",
       "      <td>0</td>\n",
       "      <td>0</td>\n",
       "      <td>0</td>\n",
       "      <td>0</td>\n",
       "      <td>1.0000</td>\n",
       "      <td>1</td>\n",
       "      <td>closed</td>\n",
       "    </tr>\n",
       "  </tbody>\n",
       "</table>\n",
       "<p>5 rows × 49 columns</p>\n",
       "</div>"
      ],
      "text/plain": [
       "   Unnamed: 0 state_code   latitude   longitude zip_code       id  \\\n",
       "0        1005         CA  42.358880  -71.056820    92101   c:6669   \n",
       "1         204         CA  37.238916 -121.973718    95032  c:16283   \n",
       "2        1001         CA  32.901049 -117.192656    92121  c:65620   \n",
       "3         738         CA  37.320309 -122.050040    95014  c:42668   \n",
       "4        1002         CA  37.779281 -122.419236    94105  c:65806   \n",
       "\n",
       "            city              Unnamed: 6               name  labels  ...  \\\n",
       "0      San Diego                     NaN        Bandsintown       1  ...   \n",
       "1      Los Gatos                     NaN          TriCipher       1  ...   \n",
       "2      San Diego      San Diego CA 92121              Plixi       1  ...   \n",
       "3      Cupertino      Cupertino CA 95014  Solidcore Systems       1  ...   \n",
       "4  San Francisco  San Francisco CA 94105     Inhale Digital       0  ...   \n",
       "\n",
       "  object_id has_VC has_angel has_roundA  has_roundB  has_roundC  has_roundD  \\\n",
       "0    c:6669      0         1          0           0           0           0   \n",
       "1   c:16283      1         0          0           1           1           1   \n",
       "2   c:65620      0         0          1           0           0           0   \n",
       "3   c:42668      0         0          0           1           1           1   \n",
       "4   c:65806      1         1          0           0           0           0   \n",
       "\n",
       "   avg_participants  is_top500    status  \n",
       "0            1.0000          0  acquired  \n",
       "1            4.7500          1  acquired  \n",
       "2            4.0000          1  acquired  \n",
       "3            3.3333          1  acquired  \n",
       "4            1.0000          1    closed  \n",
       "\n",
       "[5 rows x 49 columns]"
      ]
     },
     "execution_count": 2,
     "metadata": {},
     "output_type": "execute_result"
    }
   ],
   "source": [
    "startup = pd.read_csv('startup_data.csv')\n",
    "startup.head()"
   ]
  },
  {
   "cell_type": "code",
   "execution_count": 3,
   "metadata": {
    "scrolled": true
   },
   "outputs": [
    {
     "data": {
      "text/plain": [
       "(923, 49)"
      ]
     },
     "execution_count": 3,
     "metadata": {},
     "output_type": "execute_result"
    }
   ],
   "source": [
    "startup.shape"
   ]
  },
  {
   "cell_type": "code",
   "execution_count": 4,
   "metadata": {},
   "outputs": [
    {
     "data": {
      "text/html": [
       "<div>\n",
       "<style scoped>\n",
       "    .dataframe tbody tr th:only-of-type {\n",
       "        vertical-align: middle;\n",
       "    }\n",
       "\n",
       "    .dataframe tbody tr th {\n",
       "        vertical-align: top;\n",
       "    }\n",
       "\n",
       "    .dataframe thead th {\n",
       "        text-align: right;\n",
       "    }\n",
       "</style>\n",
       "<table border=\"1\" class=\"dataframe\">\n",
       "  <thead>\n",
       "    <tr style=\"text-align: right;\">\n",
       "      <th></th>\n",
       "      <th>Unnamed: 0</th>\n",
       "      <th>latitude</th>\n",
       "      <th>longitude</th>\n",
       "      <th>labels</th>\n",
       "      <th>age_first_funding_year</th>\n",
       "      <th>age_last_funding_year</th>\n",
       "      <th>age_first_milestone_year</th>\n",
       "      <th>age_last_milestone_year</th>\n",
       "      <th>relationships</th>\n",
       "      <th>funding_rounds</th>\n",
       "      <th>...</th>\n",
       "      <th>is_consulting</th>\n",
       "      <th>is_othercategory</th>\n",
       "      <th>has_VC</th>\n",
       "      <th>has_angel</th>\n",
       "      <th>has_roundA</th>\n",
       "      <th>has_roundB</th>\n",
       "      <th>has_roundC</th>\n",
       "      <th>has_roundD</th>\n",
       "      <th>avg_participants</th>\n",
       "      <th>is_top500</th>\n",
       "    </tr>\n",
       "  </thead>\n",
       "  <tbody>\n",
       "    <tr>\n",
       "      <th>count</th>\n",
       "      <td>923.000000</td>\n",
       "      <td>923.000000</td>\n",
       "      <td>923.000000</td>\n",
       "      <td>923.000000</td>\n",
       "      <td>923.000000</td>\n",
       "      <td>923.000000</td>\n",
       "      <td>771.000000</td>\n",
       "      <td>771.000000</td>\n",
       "      <td>923.000000</td>\n",
       "      <td>923.000000</td>\n",
       "      <td>...</td>\n",
       "      <td>923.000000</td>\n",
       "      <td>923.000000</td>\n",
       "      <td>923.000000</td>\n",
       "      <td>923.000000</td>\n",
       "      <td>923.000000</td>\n",
       "      <td>923.000000</td>\n",
       "      <td>923.000000</td>\n",
       "      <td>923.000000</td>\n",
       "      <td>923.000000</td>\n",
       "      <td>923.000000</td>\n",
       "    </tr>\n",
       "    <tr>\n",
       "      <th>mean</th>\n",
       "      <td>572.297941</td>\n",
       "      <td>38.517442</td>\n",
       "      <td>-103.539212</td>\n",
       "      <td>0.646804</td>\n",
       "      <td>2.235630</td>\n",
       "      <td>3.931456</td>\n",
       "      <td>3.055353</td>\n",
       "      <td>4.754423</td>\n",
       "      <td>7.710726</td>\n",
       "      <td>2.310943</td>\n",
       "      <td>...</td>\n",
       "      <td>0.003250</td>\n",
       "      <td>0.322860</td>\n",
       "      <td>0.326111</td>\n",
       "      <td>0.254605</td>\n",
       "      <td>0.508126</td>\n",
       "      <td>0.392199</td>\n",
       "      <td>0.232936</td>\n",
       "      <td>0.099675</td>\n",
       "      <td>2.838586</td>\n",
       "      <td>0.809317</td>\n",
       "    </tr>\n",
       "    <tr>\n",
       "      <th>std</th>\n",
       "      <td>333.585431</td>\n",
       "      <td>3.741497</td>\n",
       "      <td>22.394167</td>\n",
       "      <td>0.478222</td>\n",
       "      <td>2.510449</td>\n",
       "      <td>2.967910</td>\n",
       "      <td>2.977057</td>\n",
       "      <td>3.212107</td>\n",
       "      <td>7.265776</td>\n",
       "      <td>1.390922</td>\n",
       "      <td>...</td>\n",
       "      <td>0.056949</td>\n",
       "      <td>0.467823</td>\n",
       "      <td>0.469042</td>\n",
       "      <td>0.435875</td>\n",
       "      <td>0.500205</td>\n",
       "      <td>0.488505</td>\n",
       "      <td>0.422931</td>\n",
       "      <td>0.299729</td>\n",
       "      <td>1.874601</td>\n",
       "      <td>0.393052</td>\n",
       "    </tr>\n",
       "    <tr>\n",
       "      <th>min</th>\n",
       "      <td>1.000000</td>\n",
       "      <td>25.752358</td>\n",
       "      <td>-122.756956</td>\n",
       "      <td>0.000000</td>\n",
       "      <td>-9.046600</td>\n",
       "      <td>-9.046600</td>\n",
       "      <td>-14.169900</td>\n",
       "      <td>-7.005500</td>\n",
       "      <td>0.000000</td>\n",
       "      <td>1.000000</td>\n",
       "      <td>...</td>\n",
       "      <td>0.000000</td>\n",
       "      <td>0.000000</td>\n",
       "      <td>0.000000</td>\n",
       "      <td>0.000000</td>\n",
       "      <td>0.000000</td>\n",
       "      <td>0.000000</td>\n",
       "      <td>0.000000</td>\n",
       "      <td>0.000000</td>\n",
       "      <td>1.000000</td>\n",
       "      <td>0.000000</td>\n",
       "    </tr>\n",
       "    <tr>\n",
       "      <th>25%</th>\n",
       "      <td>283.500000</td>\n",
       "      <td>37.388869</td>\n",
       "      <td>-122.198732</td>\n",
       "      <td>0.000000</td>\n",
       "      <td>0.576700</td>\n",
       "      <td>1.669850</td>\n",
       "      <td>1.000000</td>\n",
       "      <td>2.411000</td>\n",
       "      <td>3.000000</td>\n",
       "      <td>1.000000</td>\n",
       "      <td>...</td>\n",
       "      <td>0.000000</td>\n",
       "      <td>0.000000</td>\n",
       "      <td>0.000000</td>\n",
       "      <td>0.000000</td>\n",
       "      <td>0.000000</td>\n",
       "      <td>0.000000</td>\n",
       "      <td>0.000000</td>\n",
       "      <td>0.000000</td>\n",
       "      <td>1.500000</td>\n",
       "      <td>1.000000</td>\n",
       "    </tr>\n",
       "    <tr>\n",
       "      <th>50%</th>\n",
       "      <td>577.000000</td>\n",
       "      <td>37.779281</td>\n",
       "      <td>-118.374037</td>\n",
       "      <td>1.000000</td>\n",
       "      <td>1.446600</td>\n",
       "      <td>3.528800</td>\n",
       "      <td>2.520500</td>\n",
       "      <td>4.476700</td>\n",
       "      <td>5.000000</td>\n",
       "      <td>2.000000</td>\n",
       "      <td>...</td>\n",
       "      <td>0.000000</td>\n",
       "      <td>0.000000</td>\n",
       "      <td>0.000000</td>\n",
       "      <td>0.000000</td>\n",
       "      <td>1.000000</td>\n",
       "      <td>0.000000</td>\n",
       "      <td>0.000000</td>\n",
       "      <td>0.000000</td>\n",
       "      <td>2.500000</td>\n",
       "      <td>1.000000</td>\n",
       "    </tr>\n",
       "    <tr>\n",
       "      <th>75%</th>\n",
       "      <td>866.500000</td>\n",
       "      <td>40.730646</td>\n",
       "      <td>-77.214731</td>\n",
       "      <td>1.000000</td>\n",
       "      <td>3.575350</td>\n",
       "      <td>5.560250</td>\n",
       "      <td>4.686300</td>\n",
       "      <td>6.753400</td>\n",
       "      <td>10.000000</td>\n",
       "      <td>3.000000</td>\n",
       "      <td>...</td>\n",
       "      <td>0.000000</td>\n",
       "      <td>1.000000</td>\n",
       "      <td>1.000000</td>\n",
       "      <td>1.000000</td>\n",
       "      <td>1.000000</td>\n",
       "      <td>1.000000</td>\n",
       "      <td>0.000000</td>\n",
       "      <td>0.000000</td>\n",
       "      <td>3.800000</td>\n",
       "      <td>1.000000</td>\n",
       "    </tr>\n",
       "    <tr>\n",
       "      <th>max</th>\n",
       "      <td>1153.000000</td>\n",
       "      <td>59.335232</td>\n",
       "      <td>18.057121</td>\n",
       "      <td>1.000000</td>\n",
       "      <td>21.895900</td>\n",
       "      <td>21.895900</td>\n",
       "      <td>24.684900</td>\n",
       "      <td>24.684900</td>\n",
       "      <td>63.000000</td>\n",
       "      <td>10.000000</td>\n",
       "      <td>...</td>\n",
       "      <td>1.000000</td>\n",
       "      <td>1.000000</td>\n",
       "      <td>1.000000</td>\n",
       "      <td>1.000000</td>\n",
       "      <td>1.000000</td>\n",
       "      <td>1.000000</td>\n",
       "      <td>1.000000</td>\n",
       "      <td>1.000000</td>\n",
       "      <td>16.000000</td>\n",
       "      <td>1.000000</td>\n",
       "    </tr>\n",
       "  </tbody>\n",
       "</table>\n",
       "<p>8 rows × 35 columns</p>\n",
       "</div>"
      ],
      "text/plain": [
       "        Unnamed: 0    latitude   longitude      labels  \\\n",
       "count   923.000000  923.000000  923.000000  923.000000   \n",
       "mean    572.297941   38.517442 -103.539212    0.646804   \n",
       "std     333.585431    3.741497   22.394167    0.478222   \n",
       "min       1.000000   25.752358 -122.756956    0.000000   \n",
       "25%     283.500000   37.388869 -122.198732    0.000000   \n",
       "50%     577.000000   37.779281 -118.374037    1.000000   \n",
       "75%     866.500000   40.730646  -77.214731    1.000000   \n",
       "max    1153.000000   59.335232   18.057121    1.000000   \n",
       "\n",
       "       age_first_funding_year  age_last_funding_year  \\\n",
       "count              923.000000             923.000000   \n",
       "mean                 2.235630               3.931456   \n",
       "std                  2.510449               2.967910   \n",
       "min                 -9.046600              -9.046600   \n",
       "25%                  0.576700               1.669850   \n",
       "50%                  1.446600               3.528800   \n",
       "75%                  3.575350               5.560250   \n",
       "max                 21.895900              21.895900   \n",
       "\n",
       "       age_first_milestone_year  age_last_milestone_year  relationships  \\\n",
       "count                771.000000               771.000000     923.000000   \n",
       "mean                   3.055353                 4.754423       7.710726   \n",
       "std                    2.977057                 3.212107       7.265776   \n",
       "min                  -14.169900                -7.005500       0.000000   \n",
       "25%                    1.000000                 2.411000       3.000000   \n",
       "50%                    2.520500                 4.476700       5.000000   \n",
       "75%                    4.686300                 6.753400      10.000000   \n",
       "max                   24.684900                24.684900      63.000000   \n",
       "\n",
       "       funding_rounds  ...  is_consulting  is_othercategory      has_VC  \\\n",
       "count      923.000000  ...     923.000000        923.000000  923.000000   \n",
       "mean         2.310943  ...       0.003250          0.322860    0.326111   \n",
       "std          1.390922  ...       0.056949          0.467823    0.469042   \n",
       "min          1.000000  ...       0.000000          0.000000    0.000000   \n",
       "25%          1.000000  ...       0.000000          0.000000    0.000000   \n",
       "50%          2.000000  ...       0.000000          0.000000    0.000000   \n",
       "75%          3.000000  ...       0.000000          1.000000    1.000000   \n",
       "max         10.000000  ...       1.000000          1.000000    1.000000   \n",
       "\n",
       "        has_angel  has_roundA  has_roundB  has_roundC  has_roundD  \\\n",
       "count  923.000000  923.000000  923.000000  923.000000  923.000000   \n",
       "mean     0.254605    0.508126    0.392199    0.232936    0.099675   \n",
       "std      0.435875    0.500205    0.488505    0.422931    0.299729   \n",
       "min      0.000000    0.000000    0.000000    0.000000    0.000000   \n",
       "25%      0.000000    0.000000    0.000000    0.000000    0.000000   \n",
       "50%      0.000000    1.000000    0.000000    0.000000    0.000000   \n",
       "75%      1.000000    1.000000    1.000000    0.000000    0.000000   \n",
       "max      1.000000    1.000000    1.000000    1.000000    1.000000   \n",
       "\n",
       "       avg_participants   is_top500  \n",
       "count        923.000000  923.000000  \n",
       "mean           2.838586    0.809317  \n",
       "std            1.874601    0.393052  \n",
       "min            1.000000    0.000000  \n",
       "25%            1.500000    1.000000  \n",
       "50%            2.500000    1.000000  \n",
       "75%            3.800000    1.000000  \n",
       "max           16.000000    1.000000  \n",
       "\n",
       "[8 rows x 35 columns]"
      ]
     },
     "execution_count": 4,
     "metadata": {},
     "output_type": "execute_result"
    }
   ],
   "source": [
    "startup.describe()"
   ]
  },
  {
   "cell_type": "code",
   "execution_count": 5,
   "metadata": {
    "scrolled": true
   },
   "outputs": [
    {
     "data": {
      "text/plain": [
       "Unnamed: 0                    0\n",
       "state_code                    0\n",
       "latitude                      0\n",
       "longitude                     0\n",
       "zip_code                      0\n",
       "id                            0\n",
       "city                          0\n",
       "Unnamed: 6                  493\n",
       "name                          0\n",
       "labels                        0\n",
       "founded_at                    0\n",
       "closed_at                   588\n",
       "first_funding_at              0\n",
       "last_funding_at               0\n",
       "age_first_funding_year        0\n",
       "age_last_funding_year         0\n",
       "age_first_milestone_year    152\n",
       "age_last_milestone_year     152\n",
       "relationships                 0\n",
       "funding_rounds                0\n",
       "funding_total_usd             0\n",
       "milestones                    0\n",
       "state_code.1                  1\n",
       "is_CA                         0\n",
       "is_NY                         0\n",
       "is_MA                         0\n",
       "is_TX                         0\n",
       "is_otherstate                 0\n",
       "category_code                 0\n",
       "is_software                   0\n",
       "is_web                        0\n",
       "is_mobile                     0\n",
       "is_enterprise                 0\n",
       "is_advertising                0\n",
       "is_gamesvideo                 0\n",
       "is_ecommerce                  0\n",
       "is_biotech                    0\n",
       "is_consulting                 0\n",
       "is_othercategory              0\n",
       "object_id                     0\n",
       "has_VC                        0\n",
       "has_angel                     0\n",
       "has_roundA                    0\n",
       "has_roundB                    0\n",
       "has_roundC                    0\n",
       "has_roundD                    0\n",
       "avg_participants              0\n",
       "is_top500                     0\n",
       "status                        0\n",
       "dtype: int64"
      ]
     },
     "execution_count": 5,
     "metadata": {},
     "output_type": "execute_result"
    }
   ],
   "source": [
    "startup.isnull().sum()"
   ]
  },
  {
   "cell_type": "markdown",
   "metadata": {},
   "source": [
    "We can see that there are a lot of missing values in variables in *age_first_milestone_year* and *age_last_milestone_year*. It can be because other startups didn't have milestones at all. Here we will not assume that and will get rid of this variables completely.  But we will delete variables *Unnamed: 0*,  *Unnamed: 6*, *name*, *zip_code*, *id* and *object_id*, because those are unique values that definitely will not help predictions. Also we will drop variable *closed_at* because, naturaly, it has a lot of missing values."
   ]
  },
  {
   "cell_type": "markdown",
   "metadata": {},
   "source": [
    "Also, some of the variables we will transform to suit better for our prediction. Each variable of dates we will transform to two separate variables, one for month and one for year. Also we will get rid of variable *status*, because we have dummy variable *labels* for prediction.\n"
   ]
  },
  {
   "cell_type": "code",
   "execution_count": 6,
   "metadata": {},
   "outputs": [
    {
     "data": {
      "text/html": [
       "<div>\n",
       "<style scoped>\n",
       "    .dataframe tbody tr th:only-of-type {\n",
       "        vertical-align: middle;\n",
       "    }\n",
       "\n",
       "    .dataframe tbody tr th {\n",
       "        vertical-align: top;\n",
       "    }\n",
       "\n",
       "    .dataframe thead th {\n",
       "        text-align: right;\n",
       "    }\n",
       "</style>\n",
       "<table border=\"1\" class=\"dataframe\">\n",
       "  <thead>\n",
       "    <tr style=\"text-align: right;\">\n",
       "      <th></th>\n",
       "      <th>Unnamed: 0</th>\n",
       "      <th>state_code</th>\n",
       "      <th>latitude</th>\n",
       "      <th>longitude</th>\n",
       "      <th>zip_code</th>\n",
       "      <th>id</th>\n",
       "      <th>city</th>\n",
       "      <th>Unnamed: 6</th>\n",
       "      <th>name</th>\n",
       "      <th>labels</th>\n",
       "      <th>...</th>\n",
       "      <th>has_roundC</th>\n",
       "      <th>has_roundD</th>\n",
       "      <th>avg_participants</th>\n",
       "      <th>is_top500</th>\n",
       "      <th>founding_year</th>\n",
       "      <th>founding_month</th>\n",
       "      <th>first_funding_year</th>\n",
       "      <th>first_funding_month</th>\n",
       "      <th>last_funding_year</th>\n",
       "      <th>last_funding_month</th>\n",
       "    </tr>\n",
       "  </thead>\n",
       "  <tbody>\n",
       "    <tr>\n",
       "      <th>0</th>\n",
       "      <td>1005</td>\n",
       "      <td>CA</td>\n",
       "      <td>42.358880</td>\n",
       "      <td>-71.056820</td>\n",
       "      <td>92101</td>\n",
       "      <td>c:6669</td>\n",
       "      <td>San Diego</td>\n",
       "      <td>NaN</td>\n",
       "      <td>Bandsintown</td>\n",
       "      <td>1</td>\n",
       "      <td>...</td>\n",
       "      <td>0</td>\n",
       "      <td>0</td>\n",
       "      <td>1.0000</td>\n",
       "      <td>0</td>\n",
       "      <td>2007</td>\n",
       "      <td>1</td>\n",
       "      <td>2009</td>\n",
       "      <td>4</td>\n",
       "      <td>2007</td>\n",
       "      <td>1</td>\n",
       "    </tr>\n",
       "    <tr>\n",
       "      <th>1</th>\n",
       "      <td>204</td>\n",
       "      <td>CA</td>\n",
       "      <td>37.238916</td>\n",
       "      <td>-121.973718</td>\n",
       "      <td>95032</td>\n",
       "      <td>c:16283</td>\n",
       "      <td>Los Gatos</td>\n",
       "      <td>NaN</td>\n",
       "      <td>TriCipher</td>\n",
       "      <td>1</td>\n",
       "      <td>...</td>\n",
       "      <td>1</td>\n",
       "      <td>1</td>\n",
       "      <td>4.7500</td>\n",
       "      <td>1</td>\n",
       "      <td>2000</td>\n",
       "      <td>1</td>\n",
       "      <td>2005</td>\n",
       "      <td>2</td>\n",
       "      <td>2000</td>\n",
       "      <td>1</td>\n",
       "    </tr>\n",
       "    <tr>\n",
       "      <th>2</th>\n",
       "      <td>1001</td>\n",
       "      <td>CA</td>\n",
       "      <td>32.901049</td>\n",
       "      <td>-117.192656</td>\n",
       "      <td>92121</td>\n",
       "      <td>c:65620</td>\n",
       "      <td>San Diego</td>\n",
       "      <td>San Diego CA 92121</td>\n",
       "      <td>Plixi</td>\n",
       "      <td>1</td>\n",
       "      <td>...</td>\n",
       "      <td>0</td>\n",
       "      <td>0</td>\n",
       "      <td>4.0000</td>\n",
       "      <td>1</td>\n",
       "      <td>2009</td>\n",
       "      <td>3</td>\n",
       "      <td>2010</td>\n",
       "      <td>3</td>\n",
       "      <td>2009</td>\n",
       "      <td>3</td>\n",
       "    </tr>\n",
       "    <tr>\n",
       "      <th>3</th>\n",
       "      <td>738</td>\n",
       "      <td>CA</td>\n",
       "      <td>37.320309</td>\n",
       "      <td>-122.050040</td>\n",
       "      <td>95014</td>\n",
       "      <td>c:42668</td>\n",
       "      <td>Cupertino</td>\n",
       "      <td>Cupertino CA 95014</td>\n",
       "      <td>Solidcore Systems</td>\n",
       "      <td>1</td>\n",
       "      <td>...</td>\n",
       "      <td>1</td>\n",
       "      <td>1</td>\n",
       "      <td>3.3333</td>\n",
       "      <td>1</td>\n",
       "      <td>2002</td>\n",
       "      <td>1</td>\n",
       "      <td>2005</td>\n",
       "      <td>2</td>\n",
       "      <td>2002</td>\n",
       "      <td>1</td>\n",
       "    </tr>\n",
       "    <tr>\n",
       "      <th>4</th>\n",
       "      <td>1002</td>\n",
       "      <td>CA</td>\n",
       "      <td>37.779281</td>\n",
       "      <td>-122.419236</td>\n",
       "      <td>94105</td>\n",
       "      <td>c:65806</td>\n",
       "      <td>San Francisco</td>\n",
       "      <td>San Francisco CA 94105</td>\n",
       "      <td>Inhale Digital</td>\n",
       "      <td>0</td>\n",
       "      <td>...</td>\n",
       "      <td>0</td>\n",
       "      <td>0</td>\n",
       "      <td>1.0000</td>\n",
       "      <td>1</td>\n",
       "      <td>2010</td>\n",
       "      <td>8</td>\n",
       "      <td>2010</td>\n",
       "      <td>8</td>\n",
       "      <td>2010</td>\n",
       "      <td>8</td>\n",
       "    </tr>\n",
       "  </tbody>\n",
       "</table>\n",
       "<p>5 rows × 51 columns</p>\n",
       "</div>"
      ],
      "text/plain": [
       "   Unnamed: 0 state_code   latitude   longitude zip_code       id  \\\n",
       "0        1005         CA  42.358880  -71.056820    92101   c:6669   \n",
       "1         204         CA  37.238916 -121.973718    95032  c:16283   \n",
       "2        1001         CA  32.901049 -117.192656    92121  c:65620   \n",
       "3         738         CA  37.320309 -122.050040    95014  c:42668   \n",
       "4        1002         CA  37.779281 -122.419236    94105  c:65806   \n",
       "\n",
       "            city              Unnamed: 6               name  labels  ...  \\\n",
       "0      San Diego                     NaN        Bandsintown       1  ...   \n",
       "1      Los Gatos                     NaN          TriCipher       1  ...   \n",
       "2      San Diego      San Diego CA 92121              Plixi       1  ...   \n",
       "3      Cupertino      Cupertino CA 95014  Solidcore Systems       1  ...   \n",
       "4  San Francisco  San Francisco CA 94105     Inhale Digital       0  ...   \n",
       "\n",
       "  has_roundC  has_roundD  avg_participants  is_top500  founding_year  \\\n",
       "0          0           0            1.0000          0           2007   \n",
       "1          1           1            4.7500          1           2000   \n",
       "2          0           0            4.0000          1           2009   \n",
       "3          1           1            3.3333          1           2002   \n",
       "4          0           0            1.0000          1           2010   \n",
       "\n",
       "   founding_month  first_funding_year  first_funding_month  last_funding_year  \\\n",
       "0               1                2009                    4               2007   \n",
       "1               1                2005                    2               2000   \n",
       "2               3                2010                    3               2009   \n",
       "3               1                2005                    2               2002   \n",
       "4               8                2010                    8               2010   \n",
       "\n",
       "  last_funding_month  \n",
       "0                  1  \n",
       "1                  1  \n",
       "2                  3  \n",
       "3                  1  \n",
       "4                  8  \n",
       "\n",
       "[5 rows x 51 columns]"
      ]
     },
     "execution_count": 6,
     "metadata": {},
     "output_type": "execute_result"
    }
   ],
   "source": [
    "startup[\"founded_at\"]=pd.to_datetime(startup[\"founded_at\"],format=\"%m/%d/%Y\")\n",
    "startup[\"first_funding_at\"]=pd.to_datetime(startup[\"first_funding_at\"],format=\"%m/%d/%Y\")\n",
    "startup[\"last_funding_at\"]=pd.to_datetime(startup[\"last_funding_at\"],format=\"%m/%d/%Y\")\n",
    "\n",
    "startup[\"founding_year\"]=startup[\"founded_at\"].dt.year\n",
    "startup[\"founding_month\"]=startup[\"founded_at\"].dt.month\n",
    "startup[\"first_funding_year\"]=startup[\"first_funding_at\"].dt.year\n",
    "startup[\"first_funding_month\"]=startup[\"first_funding_at\"].dt.month\n",
    "startup[\"last_funding_year\"]=startup[\"founded_at\"].dt.year\n",
    "startup[\"last_funding_month\"]=startup[\"founded_at\"].dt.month\n",
    "drop_var = ['founded_at','first_funding_at','last_funding_at','status']\n",
    "startup.drop(drop_var, axis=1, inplace=True)\n",
    "startup.head()"
   ]
  },
  {
   "cell_type": "code",
   "execution_count": 7,
   "metadata": {
    "scrolled": true
   },
   "outputs": [
    {
     "data": {
      "text/html": [
       "<div>\n",
       "<style scoped>\n",
       "    .dataframe tbody tr th:only-of-type {\n",
       "        vertical-align: middle;\n",
       "    }\n",
       "\n",
       "    .dataframe tbody tr th {\n",
       "        vertical-align: top;\n",
       "    }\n",
       "\n",
       "    .dataframe thead th {\n",
       "        text-align: right;\n",
       "    }\n",
       "</style>\n",
       "<table border=\"1\" class=\"dataframe\">\n",
       "  <thead>\n",
       "    <tr style=\"text-align: right;\">\n",
       "      <th></th>\n",
       "      <th>latitude</th>\n",
       "      <th>longitude</th>\n",
       "      <th>city</th>\n",
       "      <th>labels</th>\n",
       "      <th>age_first_funding_year</th>\n",
       "      <th>age_last_funding_year</th>\n",
       "      <th>relationships</th>\n",
       "      <th>funding_rounds</th>\n",
       "      <th>funding_total_usd</th>\n",
       "      <th>milestones</th>\n",
       "      <th>...</th>\n",
       "      <th>has_roundC</th>\n",
       "      <th>has_roundD</th>\n",
       "      <th>avg_participants</th>\n",
       "      <th>is_top500</th>\n",
       "      <th>founding_year</th>\n",
       "      <th>founding_month</th>\n",
       "      <th>first_funding_year</th>\n",
       "      <th>first_funding_month</th>\n",
       "      <th>last_funding_year</th>\n",
       "      <th>last_funding_month</th>\n",
       "    </tr>\n",
       "  </thead>\n",
       "  <tbody>\n",
       "    <tr>\n",
       "      <th>0</th>\n",
       "      <td>42.358880</td>\n",
       "      <td>-71.056820</td>\n",
       "      <td>San Diego</td>\n",
       "      <td>1</td>\n",
       "      <td>2.2493</td>\n",
       "      <td>3.0027</td>\n",
       "      <td>3</td>\n",
       "      <td>3</td>\n",
       "      <td>375000</td>\n",
       "      <td>3</td>\n",
       "      <td>...</td>\n",
       "      <td>0</td>\n",
       "      <td>0</td>\n",
       "      <td>1.0000</td>\n",
       "      <td>0</td>\n",
       "      <td>2007</td>\n",
       "      <td>1</td>\n",
       "      <td>2009</td>\n",
       "      <td>4</td>\n",
       "      <td>2007</td>\n",
       "      <td>1</td>\n",
       "    </tr>\n",
       "    <tr>\n",
       "      <th>1</th>\n",
       "      <td>37.238916</td>\n",
       "      <td>-121.973718</td>\n",
       "      <td>Los Gatos</td>\n",
       "      <td>1</td>\n",
       "      <td>5.1260</td>\n",
       "      <td>9.9973</td>\n",
       "      <td>9</td>\n",
       "      <td>4</td>\n",
       "      <td>40100000</td>\n",
       "      <td>1</td>\n",
       "      <td>...</td>\n",
       "      <td>1</td>\n",
       "      <td>1</td>\n",
       "      <td>4.7500</td>\n",
       "      <td>1</td>\n",
       "      <td>2000</td>\n",
       "      <td>1</td>\n",
       "      <td>2005</td>\n",
       "      <td>2</td>\n",
       "      <td>2000</td>\n",
       "      <td>1</td>\n",
       "    </tr>\n",
       "    <tr>\n",
       "      <th>2</th>\n",
       "      <td>32.901049</td>\n",
       "      <td>-117.192656</td>\n",
       "      <td>San Diego</td>\n",
       "      <td>1</td>\n",
       "      <td>1.0329</td>\n",
       "      <td>1.0329</td>\n",
       "      <td>5</td>\n",
       "      <td>1</td>\n",
       "      <td>2600000</td>\n",
       "      <td>2</td>\n",
       "      <td>...</td>\n",
       "      <td>0</td>\n",
       "      <td>0</td>\n",
       "      <td>4.0000</td>\n",
       "      <td>1</td>\n",
       "      <td>2009</td>\n",
       "      <td>3</td>\n",
       "      <td>2010</td>\n",
       "      <td>3</td>\n",
       "      <td>2009</td>\n",
       "      <td>3</td>\n",
       "    </tr>\n",
       "    <tr>\n",
       "      <th>3</th>\n",
       "      <td>37.320309</td>\n",
       "      <td>-122.050040</td>\n",
       "      <td>Cupertino</td>\n",
       "      <td>1</td>\n",
       "      <td>3.1315</td>\n",
       "      <td>5.3151</td>\n",
       "      <td>5</td>\n",
       "      <td>3</td>\n",
       "      <td>40000000</td>\n",
       "      <td>1</td>\n",
       "      <td>...</td>\n",
       "      <td>1</td>\n",
       "      <td>1</td>\n",
       "      <td>3.3333</td>\n",
       "      <td>1</td>\n",
       "      <td>2002</td>\n",
       "      <td>1</td>\n",
       "      <td>2005</td>\n",
       "      <td>2</td>\n",
       "      <td>2002</td>\n",
       "      <td>1</td>\n",
       "    </tr>\n",
       "    <tr>\n",
       "      <th>4</th>\n",
       "      <td>37.779281</td>\n",
       "      <td>-122.419236</td>\n",
       "      <td>San Francisco</td>\n",
       "      <td>0</td>\n",
       "      <td>0.0000</td>\n",
       "      <td>1.6685</td>\n",
       "      <td>2</td>\n",
       "      <td>2</td>\n",
       "      <td>1300000</td>\n",
       "      <td>1</td>\n",
       "      <td>...</td>\n",
       "      <td>0</td>\n",
       "      <td>0</td>\n",
       "      <td>1.0000</td>\n",
       "      <td>1</td>\n",
       "      <td>2010</td>\n",
       "      <td>8</td>\n",
       "      <td>2010</td>\n",
       "      <td>8</td>\n",
       "      <td>2010</td>\n",
       "      <td>8</td>\n",
       "    </tr>\n",
       "  </tbody>\n",
       "</table>\n",
       "<p>5 rows × 39 columns</p>\n",
       "</div>"
      ],
      "text/plain": [
       "    latitude   longitude           city  labels  age_first_funding_year  \\\n",
       "0  42.358880  -71.056820      San Diego       1                  2.2493   \n",
       "1  37.238916 -121.973718      Los Gatos       1                  5.1260   \n",
       "2  32.901049 -117.192656      San Diego       1                  1.0329   \n",
       "3  37.320309 -122.050040      Cupertino       1                  3.1315   \n",
       "4  37.779281 -122.419236  San Francisco       0                  0.0000   \n",
       "\n",
       "   age_last_funding_year  relationships  funding_rounds  funding_total_usd  \\\n",
       "0                 3.0027              3               3             375000   \n",
       "1                 9.9973              9               4           40100000   \n",
       "2                 1.0329              5               1            2600000   \n",
       "3                 5.3151              5               3           40000000   \n",
       "4                 1.6685              2               2            1300000   \n",
       "\n",
       "   milestones  ...  has_roundC  has_roundD  avg_participants  is_top500  \\\n",
       "0           3  ...           0           0            1.0000          0   \n",
       "1           1  ...           1           1            4.7500          1   \n",
       "2           2  ...           0           0            4.0000          1   \n",
       "3           1  ...           1           1            3.3333          1   \n",
       "4           1  ...           0           0            1.0000          1   \n",
       "\n",
       "   founding_year  founding_month  first_funding_year  first_funding_month  \\\n",
       "0           2007               1                2009                    4   \n",
       "1           2000               1                2005                    2   \n",
       "2           2009               3                2010                    3   \n",
       "3           2002               1                2005                    2   \n",
       "4           2010               8                2010                    8   \n",
       "\n",
       "   last_funding_year  last_funding_month  \n",
       "0               2007                   1  \n",
       "1               2000                   1  \n",
       "2               2009                   3  \n",
       "3               2002                   1  \n",
       "4               2010                   8  \n",
       "\n",
       "[5 rows x 39 columns]"
      ]
     },
     "execution_count": 7,
     "metadata": {},
     "output_type": "execute_result"
    }
   ],
   "source": [
    "drop_var = ['age_first_milestone_year','age_last_milestone_year', 'Unnamed: 0',  'Unnamed: 6', 'name', 'zip_code', 'id',\n",
    "            'object_id', 'closed_at','state_code','state_code.1','category_code']\n",
    "startup.drop(drop_var, axis=1, inplace=True)\n",
    "startup.head()"
   ]
  },
  {
   "cell_type": "code",
   "execution_count": 8,
   "metadata": {},
   "outputs": [
    {
     "data": {
      "text/plain": [
       "221"
      ]
     },
     "execution_count": 8,
     "metadata": {},
     "output_type": "execute_result"
    }
   ],
   "source": [
    "startup[\"city\"].unique().size"
   ]
  },
  {
   "cell_type": "code",
   "execution_count": 9,
   "metadata": {},
   "outputs": [
    {
     "data": {
      "text/plain": [
       "San Francisco    128\n",
       "New York          91\n",
       "Mountain View     47\n",
       "Palo Alto         35\n",
       "Santa Clara       27\n",
       "Austin            27\n",
       "San Mateo         26\n",
       "Seattle           26\n",
       "Sunnyvale         22\n",
       "San Jose          18\n",
       "Cambridge         16\n",
       "Menlo Park        16\n",
       "Los Angeles       15\n",
       "San Diego         15\n",
       "Redwood City      14\n",
       "Boston            13\n",
       "Chicago           13\n",
       "Waltham           12\n",
       "Burlington        11\n",
       "Santa Monica      10\n",
       "Name: city, dtype: int64"
      ]
     },
     "execution_count": 9,
     "metadata": {},
     "output_type": "execute_result"
    }
   ],
   "source": [
    "startup[\"city\"].value_counts().sort_values(ascending=False).head(n=20)"
   ]
  },
  {
   "cell_type": "markdown",
   "metadata": {},
   "source": [
    "We can see that we have one categorical value *city* with 221 unique values. To include all of them in the model we will have to make 221 dummy varables for each city. In order to make our data less combersome, we will use only 20 dummy variables for cities with 10 and more startups and the rest we will mark as *other*."
   ]
  },
  {
   "cell_type": "code",
   "execution_count": 10,
   "metadata": {},
   "outputs": [],
   "source": [
    "other = startup[\"city\"].value_counts().sort_values(ascending=False).index\n",
    "startup[\"city\"]= [\"other\" if startup[\"city\"][i] not in other[0:20] else startup[\"city\"][i] for i in startup[\"city\"].index]"
   ]
  },
  {
   "cell_type": "code",
   "execution_count": 11,
   "metadata": {},
   "outputs": [],
   "source": [
    "startup[\"West\"]=[1 if i<=(-110) else 0 for i in startup[\"longitude\"]]\n",
    "#startup[\"WCenterE\"]=[1 if i>=-110 and i<-90 else 0 for i in startup[\"longitude\"]]\n",
    "startup[\"East\"]=[1 if i>=-90 else 0 for i in startup[\"longitude\"]]\n",
    "startup[\"South\"]=[1 if i<=37 else 0 for i in startup[\"latitude\"]]\n",
    "#startup[\"SCenterN\"]=[1 if i>=37 and i<42 else 0 for i in startup[\"latitude\"]]\n",
    "startup[\"North\"]=[1 if i>=42 else 0 for i in startup[\"latitude\"]]"
   ]
  },
  {
   "cell_type": "code",
   "execution_count": 12,
   "metadata": {},
   "outputs": [
    {
     "data": {
      "text/html": [
       "<div>\n",
       "<style scoped>\n",
       "    .dataframe tbody tr th:only-of-type {\n",
       "        vertical-align: middle;\n",
       "    }\n",
       "\n",
       "    .dataframe tbody tr th {\n",
       "        vertical-align: top;\n",
       "    }\n",
       "\n",
       "    .dataframe thead th {\n",
       "        text-align: right;\n",
       "    }\n",
       "</style>\n",
       "<table border=\"1\" class=\"dataframe\">\n",
       "  <thead>\n",
       "    <tr style=\"text-align: right;\">\n",
       "      <th></th>\n",
       "      <th>labels</th>\n",
       "      <th>age_first_funding_year</th>\n",
       "      <th>age_last_funding_year</th>\n",
       "      <th>relationships</th>\n",
       "      <th>funding_rounds</th>\n",
       "      <th>funding_total_usd</th>\n",
       "      <th>milestones</th>\n",
       "      <th>is_CA</th>\n",
       "      <th>is_NY</th>\n",
       "      <th>is_MA</th>\n",
       "      <th>...</th>\n",
       "      <th>city_San Diego</th>\n",
       "      <th>city_San Francisco</th>\n",
       "      <th>city_San Jose</th>\n",
       "      <th>city_San Mateo</th>\n",
       "      <th>city_Santa Clara</th>\n",
       "      <th>city_Santa Monica</th>\n",
       "      <th>city_Seattle</th>\n",
       "      <th>city_Sunnyvale</th>\n",
       "      <th>city_Waltham</th>\n",
       "      <th>city_other</th>\n",
       "    </tr>\n",
       "  </thead>\n",
       "  <tbody>\n",
       "    <tr>\n",
       "      <th>0</th>\n",
       "      <td>1</td>\n",
       "      <td>2.2493</td>\n",
       "      <td>3.0027</td>\n",
       "      <td>3</td>\n",
       "      <td>3</td>\n",
       "      <td>375000</td>\n",
       "      <td>3</td>\n",
       "      <td>1</td>\n",
       "      <td>0</td>\n",
       "      <td>0</td>\n",
       "      <td>...</td>\n",
       "      <td>1</td>\n",
       "      <td>0</td>\n",
       "      <td>0</td>\n",
       "      <td>0</td>\n",
       "      <td>0</td>\n",
       "      <td>0</td>\n",
       "      <td>0</td>\n",
       "      <td>0</td>\n",
       "      <td>0</td>\n",
       "      <td>0</td>\n",
       "    </tr>\n",
       "    <tr>\n",
       "      <th>1</th>\n",
       "      <td>1</td>\n",
       "      <td>5.1260</td>\n",
       "      <td>9.9973</td>\n",
       "      <td>9</td>\n",
       "      <td>4</td>\n",
       "      <td>40100000</td>\n",
       "      <td>1</td>\n",
       "      <td>1</td>\n",
       "      <td>0</td>\n",
       "      <td>0</td>\n",
       "      <td>...</td>\n",
       "      <td>0</td>\n",
       "      <td>0</td>\n",
       "      <td>0</td>\n",
       "      <td>0</td>\n",
       "      <td>0</td>\n",
       "      <td>0</td>\n",
       "      <td>0</td>\n",
       "      <td>0</td>\n",
       "      <td>0</td>\n",
       "      <td>1</td>\n",
       "    </tr>\n",
       "    <tr>\n",
       "      <th>2</th>\n",
       "      <td>1</td>\n",
       "      <td>1.0329</td>\n",
       "      <td>1.0329</td>\n",
       "      <td>5</td>\n",
       "      <td>1</td>\n",
       "      <td>2600000</td>\n",
       "      <td>2</td>\n",
       "      <td>1</td>\n",
       "      <td>0</td>\n",
       "      <td>0</td>\n",
       "      <td>...</td>\n",
       "      <td>1</td>\n",
       "      <td>0</td>\n",
       "      <td>0</td>\n",
       "      <td>0</td>\n",
       "      <td>0</td>\n",
       "      <td>0</td>\n",
       "      <td>0</td>\n",
       "      <td>0</td>\n",
       "      <td>0</td>\n",
       "      <td>0</td>\n",
       "    </tr>\n",
       "    <tr>\n",
       "      <th>3</th>\n",
       "      <td>1</td>\n",
       "      <td>3.1315</td>\n",
       "      <td>5.3151</td>\n",
       "      <td>5</td>\n",
       "      <td>3</td>\n",
       "      <td>40000000</td>\n",
       "      <td>1</td>\n",
       "      <td>1</td>\n",
       "      <td>0</td>\n",
       "      <td>0</td>\n",
       "      <td>...</td>\n",
       "      <td>0</td>\n",
       "      <td>0</td>\n",
       "      <td>0</td>\n",
       "      <td>0</td>\n",
       "      <td>0</td>\n",
       "      <td>0</td>\n",
       "      <td>0</td>\n",
       "      <td>0</td>\n",
       "      <td>0</td>\n",
       "      <td>1</td>\n",
       "    </tr>\n",
       "    <tr>\n",
       "      <th>4</th>\n",
       "      <td>0</td>\n",
       "      <td>0.0000</td>\n",
       "      <td>1.6685</td>\n",
       "      <td>2</td>\n",
       "      <td>2</td>\n",
       "      <td>1300000</td>\n",
       "      <td>1</td>\n",
       "      <td>1</td>\n",
       "      <td>0</td>\n",
       "      <td>0</td>\n",
       "      <td>...</td>\n",
       "      <td>0</td>\n",
       "      <td>1</td>\n",
       "      <td>0</td>\n",
       "      <td>0</td>\n",
       "      <td>0</td>\n",
       "      <td>0</td>\n",
       "      <td>0</td>\n",
       "      <td>0</td>\n",
       "      <td>0</td>\n",
       "      <td>0</td>\n",
       "    </tr>\n",
       "  </tbody>\n",
       "</table>\n",
       "<p>5 rows × 61 columns</p>\n",
       "</div>"
      ],
      "text/plain": [
       "   labels  age_first_funding_year  age_last_funding_year  relationships  \\\n",
       "0       1                  2.2493                 3.0027              3   \n",
       "1       1                  5.1260                 9.9973              9   \n",
       "2       1                  1.0329                 1.0329              5   \n",
       "3       1                  3.1315                 5.3151              5   \n",
       "4       0                  0.0000                 1.6685              2   \n",
       "\n",
       "   funding_rounds  funding_total_usd  milestones  is_CA  is_NY  is_MA  ...  \\\n",
       "0               3             375000           3      1      0      0  ...   \n",
       "1               4           40100000           1      1      0      0  ...   \n",
       "2               1            2600000           2      1      0      0  ...   \n",
       "3               3           40000000           1      1      0      0  ...   \n",
       "4               2            1300000           1      1      0      0  ...   \n",
       "\n",
       "   city_San Diego  city_San Francisco  city_San Jose  city_San Mateo  \\\n",
       "0               1                   0              0               0   \n",
       "1               0                   0              0               0   \n",
       "2               1                   0              0               0   \n",
       "3               0                   0              0               0   \n",
       "4               0                   1              0               0   \n",
       "\n",
       "   city_Santa Clara  city_Santa Monica  city_Seattle  city_Sunnyvale  \\\n",
       "0                 0                  0             0               0   \n",
       "1                 0                  0             0               0   \n",
       "2                 0                  0             0               0   \n",
       "3                 0                  0             0               0   \n",
       "4                 0                  0             0               0   \n",
       "\n",
       "   city_Waltham  city_other  \n",
       "0             0           0  \n",
       "1             0           1  \n",
       "2             0           0  \n",
       "3             0           1  \n",
       "4             0           0  \n",
       "\n",
       "[5 rows x 61 columns]"
      ]
     },
     "execution_count": 12,
     "metadata": {},
     "output_type": "execute_result"
    }
   ],
   "source": [
    "startup.drop([\"latitude\",\"longitude\"], axis=1, inplace=True)\n",
    "cat_names = sorted(startup.select_dtypes(include='object'))\n",
    "startup_d = pd.get_dummies(startup, columns=cat_names)\n",
    "startup_d.head()"
   ]
  },
  {
   "cell_type": "markdown",
   "metadata": {},
   "source": [
    "# Visual analisys"
   ]
  },
  {
   "cell_type": "code",
   "execution_count": 13,
   "metadata": {},
   "outputs": [
    {
     "data": {
      "image/png": "[encoded data removed]",
      "text/plain": [
       "<Figure size 864x720 with 2 Axes>"
      ]
     },
     "metadata": {},
     "output_type": "display_data"
    }
   ],
   "source": [
    "np.random.seed(0)\n",
    "figure(figsize=(12, 10))\n",
    "ax = sns.heatmap(startup_d.corr())"
   ]
  },
  {
   "cell_type": "markdown",
   "metadata": {},
   "source": [
    "We can see that some variables have high correlation, and it can be a problem for some models. However, this is expected, because we have variables like *city_New York* and *is_NY* for example, as it can be that most of startups in state New york are in New York city."
   ]
  },
  {
   "cell_type": "code",
   "execution_count": 14,
   "metadata": {
    "scrolled": false
   },
   "outputs": [
    {
     "data": {
      "text/plain": [
       "[None]"
      ]
     },
     "execution_count": 14,
     "metadata": {},
     "output_type": "execute_result"
    },
    {
     "data": {
      "image/png": "[encoded data removed]",
      "text/plain": [
       "<Figure size 864x720 with 1 Axes>"
      ]
     },
     "metadata": {},
     "output_type": "display_data"
    }
   ],
   "source": [
    "figure(figsize=(12, 10))\n",
    "splot = sns.scatterplot(data=startup_d, x=\"funding_total_usd\", y=\"relationships\", hue=\"labels\")\n",
    "splot.set(xscale=\"log\")"
   ]
  },
  {
   "cell_type": "markdown",
   "metadata": {},
   "source": [
    "There can between of number of relationships and total funding to probability of success."
   ]
  },
  {
   "cell_type": "code",
   "execution_count": 15,
   "metadata": {},
   "outputs": [],
   "source": [
    "startup[\"category\"] = startup[[\"is_software\",\"is_web\",\"is_mobile\",\"is_enterprise\",\"is_advertising\",\"is_gamesvideo\",\"is_ecommerce\",\"is_biotech\",\"is_consulting\",\"is_othercategory\"]].idxmax(axis=1)"
   ]
  },
  {
   "cell_type": "code",
   "execution_count": 16,
   "metadata": {
    "scrolled": true
   },
   "outputs": [
    {
     "data": {
      "text/plain": [
       "<AxesSubplot:xlabel='category', ylabel='count'>"
      ]
     },
     "execution_count": 16,
     "metadata": {},
     "output_type": "execute_result"
    },
    {
     "data": {
      "image/png": "[encoded data removed]",
      "text/plain": [
       "<Figure size 864x720 with 1 Axes>"
      ]
     },
     "metadata": {},
     "output_type": "display_data"
    }
   ],
   "source": [
    "figure(figsize=(12, 10))\n",
    "sns.countplot(x=\"category\",hue=\"labels\", data=startup)"
   ]
  },
  {
   "cell_type": "markdown",
   "metadata": {},
   "source": [
    "From graph above we can see that overall there are more successful prediction in almost all categories. In software there are more successful startups, but in e-commerce there are more failing ones. "
   ]
  },
  {
   "cell_type": "code",
   "execution_count": 17,
   "metadata": {
    "scrolled": false
   },
   "outputs": [
    {
     "data": {
      "text/plain": [
       "<AxesSubplot:xlabel='city', ylabel='count'>"
      ]
     },
     "execution_count": 17,
     "metadata": {},
     "output_type": "execute_result"
    },
    {
     "data": {
      "image/png": "[encoded data removed]",
      "text/plain": [
       "<Figure size 864x720 with 1 Axes>"
      ]
     },
     "metadata": {},
     "output_type": "display_data"
    }
   ],
   "source": [
    "figure(figsize=(12, 10))\n",
    "startup[\"city\"]= [\"other\" if startup[\"city\"][i] not in other[0:10] else startup[\"city\"][i] for i in startup[\"city\"].index]\n",
    "sns.countplot(x=\"city\",hue=\"labels\", data=startup)"
   ]
  },
  {
   "cell_type": "code",
   "execution_count": 18,
   "metadata": {},
   "outputs": [],
   "source": [
    "\n",
    "\n",
    "\n",
    "def calc_vif(X):\n",
    "\n",
    "    # Calculating VIF\n",
    "    vif = pd.DataFrame()\n",
    "    vif[\"variables\"] = X.columns\n",
    "    vif[\"VIF\"] = [variance_inflation_factor(X.values, i) for i in range(X.shape[1])]\n",
    "\n",
    "    return(vif)"
   ]
  },
  {
   "cell_type": "code",
   "execution_count": 19,
   "metadata": {},
   "outputs": [
    {
     "name": "stderr",
     "output_type": "stream",
     "text": [
      "C:\\Users\\97253\\anaconda3\\lib\\site-packages\\statsmodels\\stats\\outliers_influence.py:193: RuntimeWarning: divide by zero encountered in double_scalars\n",
      "  vif = 1. / (1. - r_squared_i)\n"
     ]
    },
    {
     "data": {
      "text/html": [
       "<div>\n",
       "<style scoped>\n",
       "    .dataframe tbody tr th:only-of-type {\n",
       "        vertical-align: middle;\n",
       "    }\n",
       "\n",
       "    .dataframe tbody tr th {\n",
       "        vertical-align: top;\n",
       "    }\n",
       "\n",
       "    .dataframe thead th {\n",
       "        text-align: right;\n",
       "    }\n",
       "</style>\n",
       "<table border=\"1\" class=\"dataframe\">\n",
       "  <thead>\n",
       "    <tr style=\"text-align: right;\">\n",
       "      <th></th>\n",
       "      <th>variables</th>\n",
       "      <th>VIF</th>\n",
       "    </tr>\n",
       "  </thead>\n",
       "  <tbody>\n",
       "    <tr>\n",
       "      <th>30</th>\n",
       "      <td>founding_year</td>\n",
       "      <td>inf</td>\n",
       "    </tr>\n",
       "    <tr>\n",
       "      <th>14</th>\n",
       "      <td>is_mobile</td>\n",
       "      <td>inf</td>\n",
       "    </tr>\n",
       "    <tr>\n",
       "      <th>59</th>\n",
       "      <td>city_Waltham</td>\n",
       "      <td>inf</td>\n",
       "    </tr>\n",
       "    <tr>\n",
       "      <th>54</th>\n",
       "      <td>city_San Mateo</td>\n",
       "      <td>inf</td>\n",
       "    </tr>\n",
       "    <tr>\n",
       "      <th>50</th>\n",
       "      <td>city_Redwood City</td>\n",
       "      <td>inf</td>\n",
       "    </tr>\n",
       "    <tr>\n",
       "      <th>49</th>\n",
       "      <td>city_Palo Alto</td>\n",
       "      <td>inf</td>\n",
       "    </tr>\n",
       "    <tr>\n",
       "      <th>47</th>\n",
       "      <td>city_Mountain View</td>\n",
       "      <td>inf</td>\n",
       "    </tr>\n",
       "    <tr>\n",
       "      <th>34</th>\n",
       "      <td>last_funding_year</td>\n",
       "      <td>inf</td>\n",
       "    </tr>\n",
       "    <tr>\n",
       "      <th>31</th>\n",
       "      <td>founding_month</td>\n",
       "      <td>inf</td>\n",
       "    </tr>\n",
       "    <tr>\n",
       "      <th>21</th>\n",
       "      <td>is_othercategory</td>\n",
       "      <td>inf</td>\n",
       "    </tr>\n",
       "    <tr>\n",
       "      <th>20</th>\n",
       "      <td>is_consulting</td>\n",
       "      <td>inf</td>\n",
       "    </tr>\n",
       "    <tr>\n",
       "      <th>18</th>\n",
       "      <td>is_ecommerce</td>\n",
       "      <td>inf</td>\n",
       "    </tr>\n",
       "    <tr>\n",
       "      <th>16</th>\n",
       "      <td>is_advertising</td>\n",
       "      <td>inf</td>\n",
       "    </tr>\n",
       "    <tr>\n",
       "      <th>60</th>\n",
       "      <td>city_other</td>\n",
       "      <td>inf</td>\n",
       "    </tr>\n",
       "    <tr>\n",
       "      <th>12</th>\n",
       "      <td>is_software</td>\n",
       "      <td>inf</td>\n",
       "    </tr>\n",
       "    <tr>\n",
       "      <th>13</th>\n",
       "      <td>is_web</td>\n",
       "      <td>9.007199e+15</td>\n",
       "    </tr>\n",
       "    <tr>\n",
       "      <th>19</th>\n",
       "      <td>is_biotech</td>\n",
       "      <td>9.007199e+15</td>\n",
       "    </tr>\n",
       "    <tr>\n",
       "      <th>35</th>\n",
       "      <td>last_funding_month</td>\n",
       "      <td>9.007199e+15</td>\n",
       "    </tr>\n",
       "    <tr>\n",
       "      <th>55</th>\n",
       "      <td>city_Santa Clara</td>\n",
       "      <td>9.007199e+15</td>\n",
       "    </tr>\n",
       "    <tr>\n",
       "      <th>51</th>\n",
       "      <td>city_San Diego</td>\n",
       "      <td>9.007199e+15</td>\n",
       "    </tr>\n",
       "  </tbody>\n",
       "</table>\n",
       "</div>"
      ],
      "text/plain": [
       "             variables           VIF\n",
       "30       founding_year           inf\n",
       "14           is_mobile           inf\n",
       "59        city_Waltham           inf\n",
       "54      city_San Mateo           inf\n",
       "50   city_Redwood City           inf\n",
       "49      city_Palo Alto           inf\n",
       "47  city_Mountain View           inf\n",
       "34   last_funding_year           inf\n",
       "31      founding_month           inf\n",
       "21    is_othercategory           inf\n",
       "20       is_consulting           inf\n",
       "18        is_ecommerce           inf\n",
       "16      is_advertising           inf\n",
       "60          city_other           inf\n",
       "12         is_software           inf\n",
       "13              is_web  9.007199e+15\n",
       "19          is_biotech  9.007199e+15\n",
       "35  last_funding_month  9.007199e+15\n",
       "55    city_Santa Clara  9.007199e+15\n",
       "51      city_San Diego  9.007199e+15"
      ]
     },
     "execution_count": 19,
     "metadata": {},
     "output_type": "execute_result"
    }
   ],
   "source": [
    "calc_vif(startup_d).sort_values(by=\"VIF\",ascending=False).head(n=20)"
   ]
  },
  {
   "cell_type": "markdown",
   "metadata": {},
   "source": [
    "It seems that we have some predictors with high collinearity so we will drop some of them."
   ]
  },
  {
   "cell_type": "code",
   "execution_count": 20,
   "metadata": {},
   "outputs": [],
   "source": [
    "startup_d.drop([\"city_other\",\"is_othercategory\",\"is_otherstate\",\"founding_year\",\"last_funding_month\",\"last_funding_year\",\"first_funding_year\"], axis=1, inplace=True)"
   ]
  },
  {
   "cell_type": "markdown",
   "metadata": {},
   "source": [
    "Let's see if it helped. "
   ]
  },
  {
   "cell_type": "code",
   "execution_count": 21,
   "metadata": {},
   "outputs": [
    {
     "data": {
      "text/html": [
       "<div>\n",
       "<style scoped>\n",
       "    .dataframe tbody tr th:only-of-type {\n",
       "        vertical-align: middle;\n",
       "    }\n",
       "\n",
       "    .dataframe tbody tr th {\n",
       "        vertical-align: top;\n",
       "    }\n",
       "\n",
       "    .dataframe thead th {\n",
       "        text-align: right;\n",
       "    }\n",
       "</style>\n",
       "<table border=\"1\" class=\"dataframe\">\n",
       "  <thead>\n",
       "    <tr style=\"text-align: right;\">\n",
       "      <th></th>\n",
       "      <th>variables</th>\n",
       "      <th>VIF</th>\n",
       "    </tr>\n",
       "  </thead>\n",
       "  <tbody>\n",
       "    <tr>\n",
       "      <th>2</th>\n",
       "      <td>age_last_funding_year</td>\n",
       "      <td>21.320003</td>\n",
       "    </tr>\n",
       "    <tr>\n",
       "      <th>7</th>\n",
       "      <td>is_CA</td>\n",
       "      <td>16.181416</td>\n",
       "    </tr>\n",
       "    <tr>\n",
       "      <th>30</th>\n",
       "      <td>West</td>\n",
       "      <td>16.072461</td>\n",
       "    </tr>\n",
       "    <tr>\n",
       "      <th>4</th>\n",
       "      <td>funding_rounds</td>\n",
       "      <td>14.396480</td>\n",
       "    </tr>\n",
       "    <tr>\n",
       "      <th>1</th>\n",
       "      <td>age_first_funding_year</td>\n",
       "      <td>11.246551</td>\n",
       "    </tr>\n",
       "    <tr>\n",
       "      <th>8</th>\n",
       "      <td>is_NY</td>\n",
       "      <td>8.618619</td>\n",
       "    </tr>\n",
       "    <tr>\n",
       "      <th>27</th>\n",
       "      <td>is_top500</td>\n",
       "      <td>7.558465</td>\n",
       "    </tr>\n",
       "    <tr>\n",
       "      <th>42</th>\n",
       "      <td>city_New York</td>\n",
       "      <td>7.330466</td>\n",
       "    </tr>\n",
       "    <tr>\n",
       "      <th>31</th>\n",
       "      <td>East</td>\n",
       "      <td>6.029952</td>\n",
       "    </tr>\n",
       "    <tr>\n",
       "      <th>6</th>\n",
       "      <td>milestones</td>\n",
       "      <td>5.230504</td>\n",
       "    </tr>\n",
       "    <tr>\n",
       "      <th>9</th>\n",
       "      <td>is_MA</td>\n",
       "      <td>4.884156</td>\n",
       "    </tr>\n",
       "    <tr>\n",
       "      <th>33</th>\n",
       "      <td>North</td>\n",
       "      <td>4.202923</td>\n",
       "    </tr>\n",
       "    <tr>\n",
       "      <th>26</th>\n",
       "      <td>avg_participants</td>\n",
       "      <td>4.195771</td>\n",
       "    </tr>\n",
       "    <tr>\n",
       "      <th>10</th>\n",
       "      <td>is_TX</td>\n",
       "      <td>4.033716</td>\n",
       "    </tr>\n",
       "    <tr>\n",
       "      <th>29</th>\n",
       "      <td>first_funding_month</td>\n",
       "      <td>3.894403</td>\n",
       "    </tr>\n",
       "    <tr>\n",
       "      <th>0</th>\n",
       "      <td>labels</td>\n",
       "      <td>3.859508</td>\n",
       "    </tr>\n",
       "    <tr>\n",
       "      <th>3</th>\n",
       "      <td>relationships</td>\n",
       "      <td>3.804296</td>\n",
       "    </tr>\n",
       "    <tr>\n",
       "      <th>22</th>\n",
       "      <td>has_roundA</td>\n",
       "      <td>3.567356</td>\n",
       "    </tr>\n",
       "    <tr>\n",
       "      <th>23</th>\n",
       "      <td>has_roundB</td>\n",
       "      <td>3.028187</td>\n",
       "    </tr>\n",
       "    <tr>\n",
       "      <th>34</th>\n",
       "      <td>city_Austin</td>\n",
       "      <td>2.966777</td>\n",
       "    </tr>\n",
       "  </tbody>\n",
       "</table>\n",
       "</div>"
      ],
      "text/plain": [
       "                 variables        VIF\n",
       "2    age_last_funding_year  21.320003\n",
       "7                    is_CA  16.181416\n",
       "30                    West  16.072461\n",
       "4           funding_rounds  14.396480\n",
       "1   age_first_funding_year  11.246551\n",
       "8                    is_NY   8.618619\n",
       "27               is_top500   7.558465\n",
       "42           city_New York   7.330466\n",
       "31                    East   6.029952\n",
       "6               milestones   5.230504\n",
       "9                    is_MA   4.884156\n",
       "33                   North   4.202923\n",
       "26        avg_participants   4.195771\n",
       "10                   is_TX   4.033716\n",
       "29     first_funding_month   3.894403\n",
       "0                   labels   3.859508\n",
       "3            relationships   3.804296\n",
       "22              has_roundA   3.567356\n",
       "23              has_roundB   3.028187\n",
       "34             city_Austin   2.966777"
      ]
     },
     "execution_count": 21,
     "metadata": {},
     "output_type": "execute_result"
    }
   ],
   "source": [
    "calc_vif(startup_d).sort_values(by=\"VIF\",ascending=False).head(n=20)"
   ]
  },
  {
   "cell_type": "code",
   "execution_count": 22,
   "metadata": {},
   "outputs": [],
   "source": [
    "x=startup_d.drop(columns=['labels'])\n",
    "y=startup_d['labels']"
   ]
  },
  {
   "cell_type": "code",
   "execution_count": 23,
   "metadata": {},
   "outputs": [
    {
     "data": {
      "text/plain": [
       "(923, 53)"
      ]
     },
     "execution_count": 23,
     "metadata": {},
     "output_type": "execute_result"
    }
   ],
   "source": [
    "selector = ftr_slct.VarianceThreshold(0.003)\n",
    "selector.fit_transform(x).shape"
   ]
  },
  {
   "cell_type": "markdown",
   "metadata": {},
   "source": [
    "It looks like we don't have predictors with very low variance. "
   ]
  },
  {
   "cell_type": "code",
   "execution_count": 24,
   "metadata": {},
   "outputs": [],
   "source": [
    "\n",
    "\n",
    "simplefilter(action='ignore', category=FutureWarning)"
   ]
  },
  {
   "cell_type": "code",
   "execution_count": 25,
   "metadata": {},
   "outputs": [],
   "source": [
    "# scaling the data\n",
    "scaled_x = scale(x)"
   ]
  },
  {
   "cell_type": "code",
   "execution_count": 26,
   "metadata": {},
   "outputs": [],
   "source": [
    "scaled_x=pd.DataFrame(scaled_x,columns=x.columns)"
   ]
  },
  {
   "cell_type": "code",
   "execution_count": 27,
   "metadata": {},
   "outputs": [],
   "source": [
    "x_train, x_test , y_train ,y_test =ttsp(scaled_x,y,test_size=0.25)"
   ]
  },
  {
   "cell_type": "markdown",
   "metadata": {},
   "source": [
    "### LASSO for variables selection"
   ]
  },
  {
   "cell_type": "markdown",
   "metadata": {},
   "source": [
    "We have a lot of variables, and we know that logistic regression is not very flexible, thats why to get a better prediction we will use LASSO to select variables to avoid underfitting. "
   ]
  },
  {
   "cell_type": "code",
   "execution_count": 28,
   "metadata": {},
   "outputs": [
    {
     "data": {
      "text/plain": [
       "SelectFromModel(estimator=LogisticRegression(C=1, penalty='l1',\n",
       "                                             solver='liblinear'))"
      ]
     },
     "execution_count": 28,
     "metadata": {},
     "output_type": "execute_result"
    }
   ],
   "source": [
    "\n",
    "sel_ = SelectFromModel(LogisticRegression(C=1, penalty='l1',solver=\"liblinear\")) # reducing the amount of predictors with LASSO\n",
    "sel_.fit(x_train, y_train)"
   ]
  },
  {
   "cell_type": "code",
   "execution_count": 29,
   "metadata": {},
   "outputs": [
    {
     "name": "stdout",
     "output_type": "stream",
     "text": [
      "total features: 53\n",
      "selected features: 47\n",
      "features with coefficients shrank to zero: 6\n"
     ]
    }
   ],
   "source": [
    "selected_feat = x_train.columns[(sel_.get_support())]\n",
    "print('total features: {}'.format((x_train.shape[1])))\n",
    "print('selected features: {}'.format(len(selected_feat)))\n",
    "print('features with coefficients shrank to zero: {}'.format(\n",
    "      np.sum(sel_.estimator_.coef_ == 0)))"
   ]
  },
  {
   "cell_type": "code",
   "execution_count": 30,
   "metadata": {},
   "outputs": [
    {
     "data": {
      "text/plain": [
       "((692, 47), (231, 47))"
      ]
     },
     "execution_count": 30,
     "metadata": {},
     "output_type": "execute_result"
    }
   ],
   "source": [
    "x_train_sel = sel_.transform(x_train)\n",
    "x_test_sel = sel_.transform(x_test)\n",
    "x_train_sel.shape, x_test_sel.shape"
   ]
  },
  {
   "cell_type": "markdown",
   "metadata": {},
   "source": [
    "### Logistic Regression"
   ]
  },
  {
   "cell_type": "code",
   "execution_count": 31,
   "metadata": {},
   "outputs": [],
   "source": [
    "# using only selected variables\n",
    "log_model = LogisticRegression()\n",
    "log_model.fit(x_train_sel,y_train)\n",
    "y_pred = log_model.predict(x_test_sel)"
   ]
  },
  {
   "cell_type": "code",
   "execution_count": 32,
   "metadata": {},
   "outputs": [],
   "source": [
    "tn, fp, fn, tp = confusion_matrix(y_test, y_pred).ravel()"
   ]
  },
  {
   "cell_type": "code",
   "execution_count": 33,
   "metadata": {},
   "outputs": [
    {
     "data": {
      "text/plain": [
       "(34, 47, 29, 121)"
      ]
     },
     "execution_count": 33,
     "metadata": {},
     "output_type": "execute_result"
    }
   ],
   "source": [
    "(tn,fp,fn,tp)"
   ]
  },
  {
   "cell_type": "code",
   "execution_count": 34,
   "metadata": {},
   "outputs": [
    {
     "data": {
      "text/plain": [
       "0.670995670995671"
      ]
     },
     "execution_count": 34,
     "metadata": {},
     "output_type": "execute_result"
    }
   ],
   "source": [
    "\n",
    "acc_log = accuracy_score(y_test, y_pred)\n",
    "acc_log"
   ]
  },
  {
   "cell_type": "markdown",
   "metadata": {},
   "source": [
    "# LDA"
   ]
  },
  {
   "cell_type": "code",
   "execution_count": 35,
   "metadata": {},
   "outputs": [],
   "source": [
    "\n",
    "lda = LinearDiscriminantAnalysis()\n",
    "mod_lda = lda.fit(x_train, y_train)\n",
    "y_pred=mod_lda.predict(x_test)"
   ]
  },
  {
   "cell_type": "code",
   "execution_count": 36,
   "metadata": {},
   "outputs": [
    {
     "data": {
      "text/plain": [
       "0.670995670995671"
      ]
     },
     "execution_count": 36,
     "metadata": {},
     "output_type": "execute_result"
    }
   ],
   "source": [
    "acc_lda = accuracy_score(y_test, y_pred)\n",
    "acc_lda"
   ]
  },
  {
   "cell_type": "markdown",
   "metadata": {},
   "source": [
    "### K Neighbors Classifier\n"
   ]
  },
  {
   "cell_type": "code",
   "execution_count": 37,
   "metadata": {},
   "outputs": [],
   "source": [
    "knn = KNeighborsClassifier\n",
    "cv_knn=np.array([])\n",
    "k_chk=range(1,round(0.9*len(y_train)),2)\n",
    "# finding k with highest accuracy through cross-validation\n",
    "for k in k_chk:\n",
    "    knn2=knn(n_neighbors=k)\n",
    "    cv_knn=np.append(cv_knn,cross_val_score(knn2, x_train, y_train, cv=10, scoring='accuracy').mean())"
   ]
  },
  {
   "cell_type": "code",
   "execution_count": 38,
   "metadata": {},
   "outputs": [
    {
     "data": {
      "text/plain": [
       "21"
      ]
     },
     "execution_count": 38,
     "metadata": {},
     "output_type": "execute_result"
    }
   ],
   "source": [
    "chosen_k=k_chk[np.min(np.where(cv_knn>=(cv_knn.max()-0.01)))]\n",
    "chosen_k"
   ]
  },
  {
   "cell_type": "code",
   "execution_count": 39,
   "metadata": {},
   "outputs": [
    {
     "data": {
      "text/plain": [
       "<AxesSubplot:>"
      ]
     },
     "execution_count": 39,
     "metadata": {},
     "output_type": "execute_result"
    },
    {
     "data": {
      "image/png": "[encoded data removed]",
      "text/plain": [
       "<Figure size 432x288 with 1 Axes>"
      ]
     },
     "metadata": {},
     "output_type": "display_data"
    }
   ],
   "source": [
    "sns.lineplot(k_chk[1:150],cv_knn[1:150])\n",
    "sns.lineplot(k_chk[1:150],cv_knn.max()-0.01)\n",
    "sns.lineplot(x=np.array([chosen_k,chosen_k]),y=np.array([cv_knn.min()-0.01,cv_knn.max()+0.01]), color=\"0\",linewidth=0)"
   ]
  },
  {
   "cell_type": "code",
   "execution_count": 40,
   "metadata": {},
   "outputs": [
    {
     "data": {
      "text/plain": [
       "KNeighborsClassifier(n_neighbors=21)"
      ]
     },
     "execution_count": 40,
     "metadata": {},
     "output_type": "execute_result"
    }
   ],
   "source": [
    "knn2=knn(n_neighbors=chosen_k)\n",
    "knn2.fit(x_train,y_train)"
   ]
  },
  {
   "cell_type": "code",
   "execution_count": 41,
   "metadata": {},
   "outputs": [],
   "source": [
    "y_pred=knn2.predict(x_test)"
   ]
  },
  {
   "cell_type": "code",
   "execution_count": 42,
   "metadata": {},
   "outputs": [
    {
     "data": {
      "text/plain": [
       "0.7186147186147186"
      ]
     },
     "execution_count": 42,
     "metadata": {},
     "output_type": "execute_result"
    }
   ],
   "source": [
    "acc_knn = accuracy_score(y_test, y_pred)\n",
    "acc_knn"
   ]
  },
  {
   "cell_type": "markdown",
   "metadata": {},
   "source": [
    "## SVM\n"
   ]
  },
  {
   "cell_type": "markdown",
   "metadata": {},
   "source": [
    "### linear"
   ]
  },
  {
   "cell_type": "code",
   "execution_count": 43,
   "metadata": {},
   "outputs": [
    {
     "data": {
      "text/plain": [
       "1"
      ]
     },
     "execution_count": 43,
     "metadata": {},
     "output_type": "execute_result"
    }
   ],
   "source": [
    "\n",
    "CV_SVC1=np.array([])\n",
    "# finding tunning parameter with highest accuracy through cross-validation\n",
    "for c in range(1,100):\n",
    "    svc1=SVC(C=c/20,kernel=\"linear\")\n",
    "    CV_SVC1=np.append(CV_SVC1,cross_val_score(svc1, x_train, y_train, cv=10, scoring='accuracy').mean())\n",
    "chosen_c_l=np.min(np.where(CV_SVC1>=(CV_SVC1.max()-0.01)))+1\n",
    "chosen_c_l"
   ]
  },
  {
   "cell_type": "code",
   "execution_count": 44,
   "metadata": {},
   "outputs": [
    {
     "data": {
      "text/plain": [
       "SVC(C=0.05, kernel='linear')"
      ]
     },
     "execution_count": 44,
     "metadata": {},
     "output_type": "execute_result"
    }
   ],
   "source": [
    "SVC2=SVC(C=chosen_c_l/20,kernel=\"linear\")\n",
    "SVC2.fit(x_train,y_train)"
   ]
  },
  {
   "cell_type": "code",
   "execution_count": 45,
   "metadata": {},
   "outputs": [],
   "source": [
    "y_pred=SVC2.predict(x_test)"
   ]
  },
  {
   "cell_type": "code",
   "execution_count": 46,
   "metadata": {},
   "outputs": [
    {
     "data": {
      "text/plain": [
       "0.696969696969697"
      ]
     },
     "execution_count": 46,
     "metadata": {},
     "output_type": "execute_result"
    }
   ],
   "source": [
    "acc_svm_l = accuracy_score(y_test, y_pred)\n",
    "acc_svm_l"
   ]
  },
  {
   "cell_type": "markdown",
   "metadata": {},
   "source": [
    "### radial"
   ]
  },
  {
   "cell_type": "code",
   "execution_count": 47,
   "metadata": {},
   "outputs": [],
   "source": [
    "CV_SVC2=np.array([])\n",
    "gamma_estimators=np.array([0.01,0.05,0.1,0.15,0.2,0.25,0.3,1/3,0.4,0.5])\n",
    "# findind best tunning parameter and gamma through cross-validation\n",
    "for c in range(1,100):\n",
    "    for g in gamma_estimators:\n",
    "        svc2=SVC(C=c/20,gamma=g)\n",
    "        CV_SVC2=np.append(CV_SVC2,cross_val_score(svc2, x_train, y_train, cv=10, scoring='accuracy').mean())\n"
   ]
  },
  {
   "cell_type": "code",
   "execution_count": 48,
   "metadata": {},
   "outputs": [
    {
     "data": {
      "text/plain": [
       "11"
      ]
     },
     "execution_count": 48,
     "metadata": {},
     "output_type": "execute_result"
    }
   ],
   "source": [
    "chosen_c_r=int(np.min(np.where(CV_SVC2>=(CV_SVC2.max()-0.01)))/10)+1\n",
    "chosen_c_r"
   ]
  },
  {
   "cell_type": "code",
   "execution_count": 49,
   "metadata": {},
   "outputs": [
    {
     "data": {
      "text/plain": [
       "0.01"
      ]
     },
     "execution_count": 49,
     "metadata": {},
     "output_type": "execute_result"
    }
   ],
   "source": [
    "chosen_g=gamma_estimators[((np.min(np.where(CV_SVC2>=(CV_SVC2.max()-0.01))))%10)]\n",
    "chosen_g"
   ]
  },
  {
   "cell_type": "code",
   "execution_count": 50,
   "metadata": {},
   "outputs": [
    {
     "data": {
      "text/plain": [
       "SVC(C=0.55, gamma=0.01)"
      ]
     },
     "execution_count": 50,
     "metadata": {},
     "output_type": "execute_result"
    }
   ],
   "source": [
    "SVC3=SVC(C=chosen_c_r/20,gamma=chosen_g)\n",
    "SVC3.fit(x_train,y_train)"
   ]
  },
  {
   "cell_type": "code",
   "execution_count": 51,
   "metadata": {},
   "outputs": [],
   "source": [
    "y_pred=SVC3.predict(x_test)"
   ]
  },
  {
   "cell_type": "code",
   "execution_count": 52,
   "metadata": {},
   "outputs": [
    {
     "data": {
      "text/plain": [
       "0.7186147186147186"
      ]
     },
     "execution_count": 52,
     "metadata": {},
     "output_type": "execute_result"
    }
   ],
   "source": [
    "acc_svm_r = accuracy_score(y_test, y_pred)\n",
    "acc_svm_r"
   ]
  },
  {
   "cell_type": "markdown",
   "metadata": {},
   "source": [
    "### polynomial"
   ]
  },
  {
   "cell_type": "code",
   "execution_count": 53,
   "metadata": {},
   "outputs": [],
   "source": [
    "CV_SVC3=np.array([])\n",
    "gamma_estimators=np.array([0.01,0.05,0.1,0.15,0.2,0.25,0.3,1/3,0.4,0.5])\n",
    "costs20=np.array([0.8*chosen_c_r,0.86*chosen_c_r,0.89*chosen_c_r,0.92*chosen_c_r,0.94*chosen_c_r,0.96*chosen_c_r,0.98*chosen_c_r,0.99*chosen_c_r,chosen_c_r,\n",
    "                  1.01*chosen_c_r,1.02*chosen_c_r,1.04*chosen_c_r,1.06*chosen_c_r,1.09*chosen_c_r,1.11*chosen_c_r,1.14*chosen_c_r,1.18*chosen_c_r,1.2*chosen_c_r])\n",
    "# findind best tunning parameter, coefficient, gamma, and degree of polynomial through cross-validation\n",
    "for c in costs20:\n",
    "    for d in range(1,7):\n",
    "        for coef in range(0,5):\n",
    "                svc3=SVC(C=c/20,gamma=chosen_g,degree=d,kernel=\"poly\",coef0=coef/5,max_iter=2000000)\n",
    "                CV_SVC3=np.append(CV_SVC3,cross_val_score(svc3, x_train, y_train, cv=6, scoring='accuracy').mean())\n"
   ]
  },
  {
   "cell_type": "code",
   "execution_count": 54,
   "metadata": {},
   "outputs": [
    {
     "data": {
      "text/plain": [
       "5"
      ]
     },
     "execution_count": 54,
     "metadata": {},
     "output_type": "execute_result"
    }
   ],
   "source": [
    "chosen_coef0=int(np.min(np.where(CV_SVC3>=(CV_SVC3.max()-0.01)))%5)+1\n",
    "chosen_coef0"
   ]
  },
  {
   "cell_type": "code",
   "execution_count": 55,
   "metadata": {},
   "outputs": [
    {
     "data": {
      "text/plain": [
       "3"
      ]
     },
     "execution_count": 55,
     "metadata": {},
     "output_type": "execute_result"
    }
   ],
   "source": [
    "chosen_deg=int((np.min(np.where(CV_SVC3>=(CV_SVC3.max()-0.01)))%18)/5)+1\n",
    "chosen_deg"
   ]
  },
  {
   "cell_type": "code",
   "execution_count": 56,
   "metadata": {},
   "outputs": [
    {
     "data": {
      "text/plain": [
       "8.8"
      ]
     },
     "execution_count": 56,
     "metadata": {},
     "output_type": "execute_result"
    }
   ],
   "source": [
    "chosen_c_p=costs20[int(np.min(np.where(CV_SVC3>=(CV_SVC3.max()-0.01)))/30)]\n",
    "chosen_c_p"
   ]
  },
  {
   "cell_type": "code",
   "execution_count": 57,
   "metadata": {},
   "outputs": [
    {
     "data": {
      "text/plain": [
       "SVC(C=0.44000000000000006, coef0=1.0, gamma=0.01, kernel='poly')"
      ]
     },
     "execution_count": 57,
     "metadata": {},
     "output_type": "execute_result"
    }
   ],
   "source": [
    "SVC4=SVC(C=chosen_c_p/20,gamma=chosen_g,degree=chosen_deg,coef0=chosen_coef0/5,kernel=\"poly\")\n",
    "SVC4.fit(x_train,y_train)"
   ]
  },
  {
   "cell_type": "code",
   "execution_count": 58,
   "metadata": {},
   "outputs": [],
   "source": [
    "y_pred=SVC4.predict(x_test)"
   ]
  },
  {
   "cell_type": "code",
   "execution_count": 59,
   "metadata": {},
   "outputs": [
    {
     "data": {
      "text/plain": [
       "0.7186147186147186"
      ]
     },
     "execution_count": 59,
     "metadata": {},
     "output_type": "execute_result"
    }
   ],
   "source": [
    "acc_svm_p = accuracy_score(y_test, y_pred)\n",
    "acc_svm_p"
   ]
  },
  {
   "cell_type": "markdown",
   "metadata": {},
   "source": [
    "### Decision Tree Classifier\n"
   ]
  },
  {
   "cell_type": "code",
   "execution_count": 60,
   "metadata": {},
   "outputs": [],
   "source": [
    "Dtc = DecisionTreeClassifier"
   ]
  },
  {
   "cell_type": "code",
   "execution_count": 61,
   "metadata": {},
   "outputs": [],
   "source": [
    "cv_tree=np.array([])\n",
    "\n",
    "for i in range(10,500):\n",
    "    Dtc2=Dtc(min_weight_fraction_leaf=1/((i/10)+1))\n",
    "    cv_tree=np.append(cv_tree,cross_val_score(Dtc2, x_train, y_train, cv=10,scoring=\"accuracy\").mean())"
   ]
  },
  {
   "cell_type": "code",
   "execution_count": 62,
   "metadata": {},
   "outputs": [
    {
     "data": {
      "text/plain": [
       "24"
      ]
     },
     "execution_count": 62,
     "metadata": {},
     "output_type": "execute_result"
    }
   ],
   "source": [
    "chosen_i=np.min(np.where(cv_tree>=(cv_tree.max()-0.01)))+10\n",
    "chosen_i"
   ]
  },
  {
   "cell_type": "code",
   "execution_count": 63,
   "metadata": {},
   "outputs": [
    {
     "data": {
      "text/plain": [
       "DecisionTreeClassifier(min_weight_fraction_leaf=0.29411764705882354)"
      ]
     },
     "execution_count": 63,
     "metadata": {},
     "output_type": "execute_result"
    }
   ],
   "source": [
    "Dtc2=Dtc(min_weight_fraction_leaf=1/((chosen_i/10)+1))\n",
    "Dtc2.fit(x_train,y_train)"
   ]
  },
  {
   "cell_type": "code",
   "execution_count": 64,
   "metadata": {},
   "outputs": [
    {
     "name": "stdout",
     "output_type": "stream",
     "text": [
      "|--- feature_2 <= -0.58\n",
      "|   |--- class: 0\n",
      "|--- feature_2 >  -0.58\n",
      "|   |--- feature_2 <= 0.11\n",
      "|   |   |--- class: 1\n",
      "|   |--- feature_2 >  0.11\n",
      "|   |   |--- class: 1\n",
      "\n"
     ]
    }
   ],
   "source": [
    "text_representation = tree.export_text(Dtc2)\n",
    "print(text_representation)"
   ]
  },
  {
   "cell_type": "code",
   "execution_count": 65,
   "metadata": {},
   "outputs": [],
   "source": [
    "with open(\"decistion_tree.log\", \"w\") as fout:\n",
    "    fout.write(text_representation)"
   ]
  },
  {
   "cell_type": "code",
   "execution_count": 66,
   "metadata": {},
   "outputs": [
    {
     "data": {
      "image/png": "[encoded data removed]",
      "text/plain": [
       "<Figure size 1800x1440 with 1 Axes>"
      ]
     },
     "metadata": {},
     "output_type": "display_data"
    }
   ],
   "source": [
    "fig = plt.figure(figsize=(25,20))\n",
    "viz_tree = tree.plot_tree(Dtc2, \n",
    "                   feature_names=x_train.columns,  \n",
    "                   class_names=[\"closed\",\"acquired\"],\n",
    "                   filled=True)"
   ]
  },
  {
   "cell_type": "code",
   "execution_count": 67,
   "metadata": {},
   "outputs": [],
   "source": [
    "y_pred=Dtc2.predict(x_test)"
   ]
  },
  {
   "cell_type": "code",
   "execution_count": 68,
   "metadata": {},
   "outputs": [
    {
     "data": {
      "text/plain": [
       "0.7359307359307359"
      ]
     },
     "execution_count": 68,
     "metadata": {},
     "output_type": "execute_result"
    }
   ],
   "source": [
    "acc_tree = accuracy_score(y_test,y_pred)\n",
    "acc_tree"
   ]
  },
  {
   "cell_type": "markdown",
   "metadata": {},
   "source": [
    "### Bagging"
   ]
  },
  {
   "cell_type": "code",
   "execution_count": 69,
   "metadata": {},
   "outputs": [],
   "source": [
    "cv_bgng=np.array([])\n",
    "n_estimators=np.array([10,50,100,250,500,1000])\n",
    "ccp_alpha=np.array([0,0.001,0.005,0.01,0.02,1/((chosen_i/10)+1),0.05,0.1,0.2,0.33])\n",
    "for i in n_estimators:\n",
    "    for j in ccp_alpha:\n",
    "        base = DecisionTreeClassifier(min_weight_fraction_leaf=j)\n",
    "        bgng = BaggingClassifier(base_estimator = base, \n",
    "                          n_estimators = i)\n",
    "        cv_bgng=np.append(cv_bgng,cross_val_score(bgng, x_train, y_train, cv=6,scoring=\"accuracy\",n_jobs=-1).mean())"
   ]
  },
  {
   "cell_type": "code",
   "execution_count": 70,
   "metadata": {},
   "outputs": [
    {
     "data": {
      "text/plain": [
       "50"
      ]
     },
     "execution_count": 70,
     "metadata": {},
     "output_type": "execute_result"
    }
   ],
   "source": [
    "chosen_est1=n_estimators[int(np.min(np.where(cv_bgng>=(cv_bgng.max()-0.01)))/10)]\n",
    "chosen_est1"
   ]
  },
  {
   "cell_type": "code",
   "execution_count": 71,
   "metadata": {},
   "outputs": [
    {
     "data": {
      "text/plain": [
       "0.001"
      ]
     },
     "execution_count": 71,
     "metadata": {},
     "output_type": "execute_result"
    }
   ],
   "source": [
    "chosen_ccp=ccp_alpha[((np.min(np.where(cv_bgng>=(cv_bgng.max()-0.01))))%10)]\n",
    "chosen_ccp"
   ]
  },
  {
   "cell_type": "code",
   "execution_count": 72,
   "metadata": {},
   "outputs": [],
   "source": [
    "base = DecisionTreeClassifier(min_weight_fraction_leaf=chosen_ccp)\n",
    "bgng2 = BaggingClassifier(base_estimator = base, \n",
    "                          n_estimators = chosen_est1)"
   ]
  },
  {
   "cell_type": "code",
   "execution_count": 73,
   "metadata": {},
   "outputs": [
    {
     "data": {
      "text/plain": [
       "0.7489177489177489"
      ]
     },
     "execution_count": 73,
     "metadata": {},
     "output_type": "execute_result"
    }
   ],
   "source": [
    "bgng2.fit(x_train, y_train)\n",
    "y_pred=bgng2.predict(x_test)\n",
    "acc_bag = accuracy_score(y_test,y_pred)\n",
    "acc_bag"
   ]
  },
  {
   "cell_type": "markdown",
   "metadata": {},
   "source": [
    "### Random Forest"
   ]
  },
  {
   "cell_type": "code",
   "execution_count": 74,
   "metadata": {},
   "outputs": [],
   "source": [
    "\n",
    "cv_rf=np.array([])\n",
    "new_estimators=np.array([np.array([chosen_est1-200,5]).max(),np.array([chosen_est1-50,8]).max() ,chosen_est1,chosen_est1+100,chosen_est1+250])\n",
    "mtry_est=np.array([2,5,7,10,12,15,18,20,28,35])\n",
    "for i in new_estimators:\n",
    "    for m in mtry_est:\n",
    "\n",
    "        \n",
    "        RFC= RandomForestClassifier(n_estimators=i,ccp_alpha=chosen_ccp,max_features=m)\n",
    "        cv_rf=np.append(cv_rf,cross_val_score(RFC, x_train, y_train, cv=6,scoring=\"accuracy\",n_jobs=-1).mean())\n",
    "        "
   ]
  },
  {
   "cell_type": "code",
   "execution_count": 75,
   "metadata": {},
   "outputs": [
    {
     "data": {
      "text/plain": [
       "50"
      ]
     },
     "execution_count": 75,
     "metadata": {},
     "output_type": "execute_result"
    }
   ],
   "source": [
    "chosen_est2=new_estimators[int(np.min(np.where(cv_rf>=(cv_rf.max()-0.01)))/10)]\n",
    "chosen_est2"
   ]
  },
  {
   "cell_type": "code",
   "execution_count": 76,
   "metadata": {},
   "outputs": [
    {
     "data": {
      "text/plain": [
       "20"
      ]
     },
     "execution_count": 76,
     "metadata": {},
     "output_type": "execute_result"
    }
   ],
   "source": [
    "chosen_mtry=mtry_est[((np.min(np.where(cv_rf>=(cv_rf.max()-0.01))))%10)]\n",
    "chosen_mtry"
   ]
  },
  {
   "cell_type": "code",
   "execution_count": 77,
   "metadata": {},
   "outputs": [
    {
     "data": {
      "text/plain": [
       "0.7792207792207793"
      ]
     },
     "execution_count": 77,
     "metadata": {},
     "output_type": "execute_result"
    }
   ],
   "source": [
    "RFC2= RandomForestClassifier(n_estimators=chosen_est2,ccp_alpha=chosen_ccp,max_features=chosen_mtry)\n",
    "RFC2.fit(x_train, y_train)\n",
    "y_pred=RFC2.predict(x_test)\n",
    "acc_rf = accuracy_score(y_test,y_pred)\n",
    "acc_rf"
   ]
  },
  {
   "cell_type": "markdown",
   "metadata": {},
   "source": [
    "### Gradient Boosting"
   ]
  },
  {
   "cell_type": "code",
   "execution_count": 78,
   "metadata": {},
   "outputs": [],
   "source": [
    "cv_gbc=np.array([])\n",
    "new_estimators=np.array([np.array([chosen_est2-200,5]).max(),np.array([chosen_est2-50,8]).max() ,chosen_est2,chosen_est2+100,chosen_est2+250])\n",
    "\n",
    "for i in new_estimators:\n",
    "    for m in range(1,9):\n",
    "        GBC1= GBC(n_estimators=i,max_depth=m)\n",
    "        cv_gbc=np.append(cv_gbc,cross_val_score(GBC1, x_train, y_train, cv=10,scoring=\"accuracy\",n_jobs=-1).mean())"
   ]
  },
  {
   "cell_type": "code",
   "execution_count": 79,
   "metadata": {},
   "outputs": [
    {
     "data": {
      "text/plain": [
       "150"
      ]
     },
     "execution_count": 79,
     "metadata": {},
     "output_type": "execute_result"
    }
   ],
   "source": [
    "chosen_est3=new_estimators[int(np.min(np.where(cv_gbc>=(cv_gbc.max()-0.01)))/8)]\n",
    "chosen_est3"
   ]
  },
  {
   "cell_type": "code",
   "execution_count": 80,
   "metadata": {},
   "outputs": [
    {
     "data": {
      "text/plain": [
       "1"
      ]
     },
     "execution_count": 80,
     "metadata": {},
     "output_type": "execute_result"
    }
   ],
   "source": [
    "chosen_max=((np.min(np.where(cv_gbc>=(cv_gbc.max()-0.01))))%8)+1\n",
    "chosen_max"
   ]
  },
  {
   "cell_type": "code",
   "execution_count": 81,
   "metadata": {},
   "outputs": [
    {
     "data": {
      "text/plain": [
       "0.7922077922077922"
      ]
     },
     "execution_count": 81,
     "metadata": {},
     "output_type": "execute_result"
    }
   ],
   "source": [
    "GBC2= GBC(n_estimators=chosen_est3,max_depth=chosen_max)\n",
    "GBC2.fit(x_train, y_train)\n",
    "y_pred=GBC2.predict(x_test)\n",
    "acc_gb = accuracy_score(y_test,y_pred)\n",
    "acc_gb"
   ]
  },
  {
   "cell_type": "markdown",
   "metadata": {},
   "source": [
    "# Comparing models"
   ]
  },
  {
   "cell_type": "markdown",
   "metadata": {},
   "source": [
    "We will use bootstrap to obtain accuracy distribution for all our models. "
   ]
  },
  {
   "cell_type": "code",
   "execution_count": 82,
   "metadata": {},
   "outputs": [],
   "source": [
    "n_iterations = 500\n",
    "n_size = int(len(x_train) * 0.50)\n",
    "stats = {'LR': [], 'LDA':  [], 'KNN': [], 'SVM linear': [], 'SVM radial': [], 'SVM polynomial': [], 'TREE': [], 'BAG': [], 'RF': [], 'GB': []}\n",
    "\n",
    "for i in range(n_iterations):\n",
    "    train_x, train_y = resample(x_train, y_train, n_samples=n_size)\n",
    "    model_log = LogisticRegression()\n",
    "    model_log.fit(train_x, train_y)\n",
    "    predictions = model_log.predict(x_test)\n",
    "    score = accuracy_score(y_test, predictions)\n",
    "    stats['LR'].append(score)\n",
    "    \n",
    "    model_lda = LinearDiscriminantAnalysis()\n",
    "    model_lda.fit(train_x, train_y)\n",
    "    predictions = model_lda.predict(x_test)\n",
    "    score = accuracy_score(y_test, predictions)\n",
    "    stats['LDA'].append(score)\n",
    "      \n",
    "    model_knn = knn(n_neighbors=chosen_k)\n",
    "    model_knn.fit(train_x, train_y)\n",
    "    predictions = model_knn.predict(x_test)\n",
    "    score = accuracy_score(y_test, predictions)\n",
    "    stats['KNN'].append(score)\n",
    "    \n",
    "    model_svc=SVC(C=chosen_c_l/20,kernel=\"linear\")\n",
    "    model_svc.fit(train_x,train_y)\n",
    "    predictions = model_svc.predict(x_test)\n",
    "    score = accuracy_score(y_test, predictions)\n",
    "    stats['SVM linear'].append(score)\n",
    "\n",
    "    model_svm_r=SVC(C=chosen_c_r/20,gamma=chosen_g)\n",
    "    model_svm_r.fit(train_x,train_y)\n",
    "    predictions = model_svm_r.predict(x_test)\n",
    "    score = accuracy_score(y_test, predictions)\n",
    "    stats['SVM radial'].append(score)\n",
    "    \n",
    "    model_svm_p=SVC(C=chosen_c_p/20,gamma=chosen_g,degree=chosen_deg,coef0=chosen_coef0/5,kernel=\"poly\")\n",
    "    model_svm_p.fit(train_x,train_y)\n",
    "    predictions = model_svm_p.predict(x_test)\n",
    "    score = accuracy_score(y_test, predictions)\n",
    "    stats['SVM polynomial'].append(score)\n",
    "    \n",
    "    model_tree=Dtc(min_weight_fraction_leaf=1/((chosen_i/10)+1))\n",
    "    model_tree.fit(train_x,train_y)\n",
    "    predictions = model_tree.predict(x_test)\n",
    "    score = accuracy_score(y_test, predictions)\n",
    "    stats['TREE'].append(score)\n",
    "    \n",
    "    model_bag = BaggingClassifier(base_estimator = base, n_estimators = chosen_est1)\n",
    "    model_bag.fit(train_x,train_y)\n",
    "    predictions = model_bag.predict(x_test)\n",
    "    score = accuracy_score(y_test, predictions)\n",
    "    stats['BAG'].append(score)\n",
    "    \n",
    "    model_rf= RandomForestClassifier(n_estimators=chosen_est2,ccp_alpha=chosen_ccp,max_features=chosen_mtry)\n",
    "    model_rf.fit(train_x,train_y)\n",
    "    predictions = model_rf.predict(x_test)\n",
    "    score = accuracy_score(y_test, predictions)\n",
    "    stats['RF'].append(score)\n",
    "    \n",
    "    model_gb= GBC(n_estimators=chosen_est3,max_depth=chosen_max)\n",
    "    model_gb.fit(train_x,train_y)\n",
    "    predictions = model_gb.predict(x_test)\n",
    "    score = accuracy_score(y_test, predictions)\n",
    "    stats['GB'].append(score)\n"
   ]
  },
  {
   "cell_type": "code",
   "execution_count": 83,
   "metadata": {},
   "outputs": [
    {
     "data": {
      "text/html": [
       "<div>\n",
       "<style scoped>\n",
       "    .dataframe tbody tr th:only-of-type {\n",
       "        vertical-align: middle;\n",
       "    }\n",
       "\n",
       "    .dataframe tbody tr th {\n",
       "        vertical-align: top;\n",
       "    }\n",
       "\n",
       "    .dataframe thead th {\n",
       "        text-align: right;\n",
       "    }\n",
       "</style>\n",
       "<table border=\"1\" class=\"dataframe\">\n",
       "  <thead>\n",
       "    <tr style=\"text-align: right;\">\n",
       "      <th></th>\n",
       "      <th>LR</th>\n",
       "      <th>LDA</th>\n",
       "      <th>KNN</th>\n",
       "      <th>SVM linear</th>\n",
       "      <th>SVM radial</th>\n",
       "      <th>SVM polynomial</th>\n",
       "      <th>TREE</th>\n",
       "      <th>BAG</th>\n",
       "      <th>RF</th>\n",
       "      <th>GB</th>\n",
       "    </tr>\n",
       "  </thead>\n",
       "  <tbody>\n",
       "    <tr>\n",
       "      <th>0</th>\n",
       "      <td>0.658009</td>\n",
       "      <td>0.662338</td>\n",
       "      <td>0.705628</td>\n",
       "      <td>0.718615</td>\n",
       "      <td>0.718615</td>\n",
       "      <td>0.718615</td>\n",
       "      <td>0.735931</td>\n",
       "      <td>0.735931</td>\n",
       "      <td>0.761905</td>\n",
       "      <td>0.787879</td>\n",
       "    </tr>\n",
       "    <tr>\n",
       "      <th>1</th>\n",
       "      <td>0.649351</td>\n",
       "      <td>0.610390</td>\n",
       "      <td>0.658009</td>\n",
       "      <td>0.670996</td>\n",
       "      <td>0.709957</td>\n",
       "      <td>0.709957</td>\n",
       "      <td>0.718615</td>\n",
       "      <td>0.744589</td>\n",
       "      <td>0.744589</td>\n",
       "      <td>0.766234</td>\n",
       "    </tr>\n",
       "    <tr>\n",
       "      <th>2</th>\n",
       "      <td>0.653680</td>\n",
       "      <td>0.645022</td>\n",
       "      <td>0.692641</td>\n",
       "      <td>0.688312</td>\n",
       "      <td>0.705628</td>\n",
       "      <td>0.658009</td>\n",
       "      <td>0.718615</td>\n",
       "      <td>0.774892</td>\n",
       "      <td>0.761905</td>\n",
       "      <td>0.748918</td>\n",
       "    </tr>\n",
       "    <tr>\n",
       "      <th>3</th>\n",
       "      <td>0.658009</td>\n",
       "      <td>0.662338</td>\n",
       "      <td>0.666667</td>\n",
       "      <td>0.683983</td>\n",
       "      <td>0.705628</td>\n",
       "      <td>0.683983</td>\n",
       "      <td>0.718615</td>\n",
       "      <td>0.740260</td>\n",
       "      <td>0.761905</td>\n",
       "      <td>0.731602</td>\n",
       "    </tr>\n",
       "    <tr>\n",
       "      <th>4</th>\n",
       "      <td>0.683983</td>\n",
       "      <td>0.683983</td>\n",
       "      <td>0.714286</td>\n",
       "      <td>0.705628</td>\n",
       "      <td>0.722944</td>\n",
       "      <td>0.705628</td>\n",
       "      <td>0.718615</td>\n",
       "      <td>0.722944</td>\n",
       "      <td>0.722944</td>\n",
       "      <td>0.779221</td>\n",
       "    </tr>\n",
       "  </tbody>\n",
       "</table>\n",
       "</div>"
      ],
      "text/plain": [
       "         LR       LDA       KNN  SVM linear  SVM radial  SVM polynomial  \\\n",
       "0  0.658009  0.662338  0.705628    0.718615    0.718615        0.718615   \n",
       "1  0.649351  0.610390  0.658009    0.670996    0.709957        0.709957   \n",
       "2  0.653680  0.645022  0.692641    0.688312    0.705628        0.658009   \n",
       "3  0.658009  0.662338  0.666667    0.683983    0.705628        0.683983   \n",
       "4  0.683983  0.683983  0.714286    0.705628    0.722944        0.705628   \n",
       "\n",
       "       TREE       BAG        RF        GB  \n",
       "0  0.735931  0.735931  0.761905  0.787879  \n",
       "1  0.718615  0.744589  0.744589  0.766234  \n",
       "2  0.718615  0.774892  0.761905  0.748918  \n",
       "3  0.718615  0.740260  0.761905  0.731602  \n",
       "4  0.718615  0.722944  0.722944  0.779221  "
      ]
     },
     "execution_count": 83,
     "metadata": {},
     "output_type": "execute_result"
    }
   ],
   "source": [
    "stats = pd.DataFrame(data=stats)\n",
    "stats.head()"
   ]
  },
  {
   "cell_type": "code",
   "execution_count": 84,
   "metadata": {},
   "outputs": [],
   "source": [
    "alpha = 0.95\n",
    "lower = list()\n",
    "upper = list()\n",
    "for i in stats.columns:\n",
    "    p = ((1.0-alpha)/2.0) * 100\n",
    "    lower.append(max(0.0, np.percentile(stats[i], p)))\n",
    "    p = (alpha+((1.0-alpha)/2.0)) * 100\n",
    "    upper.append(min(1.0, np.percentile(stats[i], p)))"
   ]
  },
  {
   "cell_type": "code",
   "execution_count": 85,
   "metadata": {},
   "outputs": [
    {
     "data": {
      "text/html": [
       "<div>\n",
       "<style scoped>\n",
       "    .dataframe tbody tr th:only-of-type {\n",
       "        vertical-align: middle;\n",
       "    }\n",
       "\n",
       "    .dataframe tbody tr th {\n",
       "        vertical-align: top;\n",
       "    }\n",
       "\n",
       "    .dataframe thead th {\n",
       "        text-align: right;\n",
       "    }\n",
       "</style>\n",
       "<table border=\"1\" class=\"dataframe\">\n",
       "  <thead>\n",
       "    <tr style=\"text-align: right;\">\n",
       "      <th></th>\n",
       "      <th>test accuracy</th>\n",
       "      <th>lower bound</th>\n",
       "      <th>upper bound</th>\n",
       "    </tr>\n",
       "  </thead>\n",
       "  <tbody>\n",
       "    <tr>\n",
       "      <th>logistic regression</th>\n",
       "      <td>0.670996</td>\n",
       "      <td>0.632035</td>\n",
       "      <td>0.727273</td>\n",
       "    </tr>\n",
       "    <tr>\n",
       "      <th>LDA</th>\n",
       "      <td>0.670996</td>\n",
       "      <td>0.619048</td>\n",
       "      <td>0.714286</td>\n",
       "    </tr>\n",
       "    <tr>\n",
       "      <th>K-NN</th>\n",
       "      <td>0.718615</td>\n",
       "      <td>0.645022</td>\n",
       "      <td>0.727273</td>\n",
       "    </tr>\n",
       "    <tr>\n",
       "      <th>SVM linear</th>\n",
       "      <td>0.696970</td>\n",
       "      <td>0.653680</td>\n",
       "      <td>0.733874</td>\n",
       "    </tr>\n",
       "    <tr>\n",
       "      <th>SVM radial</th>\n",
       "      <td>0.718615</td>\n",
       "      <td>0.670996</td>\n",
       "      <td>0.731602</td>\n",
       "    </tr>\n",
       "    <tr>\n",
       "      <th>SVM polynomial</th>\n",
       "      <td>0.718615</td>\n",
       "      <td>0.666667</td>\n",
       "      <td>0.742532</td>\n",
       "    </tr>\n",
       "    <tr>\n",
       "      <th>Decidion tree</th>\n",
       "      <td>0.735931</td>\n",
       "      <td>0.649351</td>\n",
       "      <td>0.735931</td>\n",
       "    </tr>\n",
       "    <tr>\n",
       "      <th>Bagging</th>\n",
       "      <td>0.748918</td>\n",
       "      <td>0.692641</td>\n",
       "      <td>0.783550</td>\n",
       "    </tr>\n",
       "    <tr>\n",
       "      <th>Random Forest</th>\n",
       "      <td>0.779221</td>\n",
       "      <td>0.714286</td>\n",
       "      <td>0.787879</td>\n",
       "    </tr>\n",
       "    <tr>\n",
       "      <th>Gradient Boosting</th>\n",
       "      <td>0.792208</td>\n",
       "      <td>0.725000</td>\n",
       "      <td>0.792208</td>\n",
       "    </tr>\n",
       "  </tbody>\n",
       "</table>\n",
       "</div>"
      ],
      "text/plain": [
       "                     test accuracy  lower bound  upper bound\n",
       "logistic regression       0.670996     0.632035     0.727273\n",
       "LDA                       0.670996     0.619048     0.714286\n",
       "K-NN                      0.718615     0.645022     0.727273\n",
       "SVM linear                0.696970     0.653680     0.733874\n",
       "SVM radial                0.718615     0.670996     0.731602\n",
       "SVM polynomial            0.718615     0.666667     0.742532\n",
       "Decidion tree             0.735931     0.649351     0.735931\n",
       "Bagging                   0.748918     0.692641     0.783550\n",
       "Random Forest             0.779221     0.714286     0.787879\n",
       "Gradient Boosting         0.792208     0.725000     0.792208"
      ]
     },
     "execution_count": 85,
     "metadata": {},
     "output_type": "execute_result"
    }
   ],
   "source": [
    "d = {'test accuracy': [acc_log, acc_lda, acc_knn, acc_svm_l, acc_svm_r, acc_svm_p, acc_tree, acc_bag, acc_rf, acc_gb], 'lower bound': lower, 'upper bound' : upper}\n",
    "accuracy  = pd.DataFrame(data=d, index=['logistic regression', 'LDA','K-NN', 'SVM linear', 'SVM radial', 'SVM polynomial', 'Decidion tree','Bagging', 'Random Forest', 'Gradient Boosting'])\n",
    "accuracy"
   ]
  },
  {
   "cell_type": "code",
   "execution_count": 86,
   "metadata": {},
   "outputs": [
    {
     "data": {
      "image/png": "[encoded data removed]",
      "text/plain": [
       "<Figure size 864x720 with 1 Axes>"
      ]
     },
     "metadata": {},
     "output_type": "display_data"
    }
   ],
   "source": [
    "figure(figsize=(12, 10))\n",
    "ax = sns.boxplot(x=\"variable\", y=\"value\", data=pd.melt(stats))"
   ]
  },
  {
   "cell_type": "markdown",
   "metadata": {},
   "source": [
    "We can see from boxplot that Random Forest, Bagging and Gradient Boosting peformend best in this case. It can be because all other model are not flexible enough, like LDA or logistic regression."
   ]
  }
 ],
 "metadata": {
  "kernelspec": {
   "display_name": "Python 3",
   "language": "python",
   "name": "python3"
  },
  "language_info": {
   "codemirror_mode": {
    "name": "ipython",
    "version": 3
   },
   "file_extension": ".py",
   "mimetype": "text/x-python",
   "name": "python",
   "nbconvert_exporter": "python",
   "pygments_lexer": "ipython3",
   "version": "3.8.5"
  }
 },
 "nbformat": 4,
 "nbformat_minor": 2
}
